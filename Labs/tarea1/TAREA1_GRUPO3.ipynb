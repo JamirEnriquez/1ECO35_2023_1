{
 "cells": [
  {
   "cell_type": "markdown",
   "id": "3b85cdc0",
   "metadata": {},
   "source": [
    "# Script de Python (jupyter notebook)\n",
    "\n",
    "### F-string\n",
    "Use F-string para crear el siguiente texto: \"Facultad de Ciencias Sociales \\ 2023\"\n",
    "Use el año como la variable en la estructura f-string\n",
    "\n",
    "### Lista\n",
    "Crear una lista de países miembros del acuerdo de la Alianza del Pacífico: Australia, Brunei Darussalam, Canadá, Corea, Chile, China, Estados Unidos, Filipinas, Hong Kong, Indonesia, Japón, Malasia.\n",
    "\n",
    "Use la lista creada para obtener a Chile.\n",
    "Use la lista creada para obtener a Malasia.\n",
    "Use la lista creada para obtener una lista de países desde China hasta Indonesia\n",
    "\n",
    "### Diccionario\n",
    "Replique el siguiente diccionario\n",
    "\n",
    "tutorial_pandas_creacion_df_01\n",
    "\n",
    "Extraer las palabras \"Metal\" y el numero 47\n",
    "\n",
    "Añade un Key llamado books que almacene los titulos de 3 libros."
   ]
  },
  {
   "cell_type": "code",
   "execution_count": 3,
   "id": "4d392caf",
   "metadata": {},
   "outputs": [
    {
     "name": "stdout",
     "output_type": "stream",
     "text": [
      "Facultad de Ciencias Sociales \\ 2023\n"
     ]
    }
   ],
   "source": [
    "# f-string\n",
    "\n",
    "a = 2023 \n",
    "\n",
    "print(f'Facultad de Ciencias Sociales \\ {a}')"
   ]
  },
  {
   "cell_type": "code",
   "execution_count": null,
   "id": "26b13ee4",
   "metadata": {},
   "outputs": [],
   "source": [
    "# Lista\n",
    "\n",
    "lista = [\"Australia\",\"Brunei Darussalam\",\"Canadá\",\"Corea\", \"Chile\", \"China\", \"Estados Unidos\", \"Filipinas\", \"Hong Kong\", \"Indonesia\", \"Japón\", \"Malasia\"]\n"
   ]
  }
 ],
 "metadata": {
  "kernelspec": {
   "display_name": "Python 3 (ipykernel)",
   "language": "python",
   "name": "python3"
  },
  "language_info": {
   "codemirror_mode": {
    "name": "ipython",
    "version": 3
   },
   "file_extension": ".py",
   "mimetype": "text/x-python",
   "name": "python",
   "nbconvert_exporter": "python",
   "pygments_lexer": "ipython3",
   "version": "3.10.9"
  }
 },
 "nbformat": 4,
 "nbformat_minor": 5
}

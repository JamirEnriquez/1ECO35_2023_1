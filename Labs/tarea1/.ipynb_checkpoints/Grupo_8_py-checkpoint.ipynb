{
 "cells": [
  {
   "cell_type": "markdown",
   "id": "a2f29e9a",
   "metadata": {},
   "source": [
    "## Trabajo Grupal 1\n",
    "\n",
    "      Integrantes:\n",
    "    \n",
    "    - Renzo Mosquera (20181960)\n",
    "    - Yenner Huancahuire (20173340)\n",
    "    - Pamela Obregón (20173040)\n",
    "   \n",
    "    \n",
    "    \n",
    "    "
   ]
  },
  {
   "cell_type": "code",
   "execution_count": 6,
   "id": "1e6d5435",
   "metadata": {},
   "outputs": [
    {
     "name": "stdout",
     "output_type": "stream",
     "text": [
      "Facultad de Ciencias Sociales 2023\n"
     ]
    }
   ],
   "source": [
    "## Uso de F-string\n",
    "\n",
    "año=2023\n",
    "\n",
    "print(f\"Facultad de Ciencias Sociales {año}\")"
   ]
  },
  {
   "cell_type": "code",
   "execution_count": 3,
   "id": "0fb23eee",
   "metadata": {},
   "outputs": [
    {
     "name": "stdout",
     "output_type": "stream",
     "text": [
      "['Australia', 'Brunei', 'Darussalam', 'Canada', 'Corea', 'Chile', 'China', 'Estados Unidos', 'Filipinas', 'Hong Kong', 'Indonesia', 'Japon', 'Malasia']\n"
     ]
    }
   ],
   "source": [
    "## Lista\n",
    "\n",
    "alpaf = [\"Australia\", \"Brunei\", \"Darussalam\", \"Canada\", \"Corea\", \"Chile\",\n",
    "         \"China\", \"Estados Unidos\", \"Filipinas\", \"Hong Kong\", \"Indonesia\",\n",
    "         \"Japon\", \"Malasia\"]\n",
    "\n",
    "print(alpaf)"
   ]
  },
  {
   "cell_type": "code",
   "execution_count": 7,
   "id": "b4e15433",
   "metadata": {},
   "outputs": [
    {
     "data": {
      "text/plain": [
       "'Chile'"
      ]
     },
     "execution_count": 7,
     "metadata": {},
     "output_type": "execute_result"
    }
   ],
   "source": [
    "## Extraemos elementos - Chile\n",
    "\n",
    "alpaf[5]   "
   ]
  },
  {
   "cell_type": "code",
   "execution_count": 8,
   "id": "ae08eb6f",
   "metadata": {},
   "outputs": [
    {
     "data": {
      "text/plain": [
       "'Malasia'"
      ]
     },
     "execution_count": 8,
     "metadata": {},
     "output_type": "execute_result"
    }
   ],
   "source": [
    "## Extraemos elementos - Malasia\n",
    "\n",
    "alpaf[12]"
   ]
  },
  {
   "cell_type": "code",
   "execution_count": 10,
   "id": "063e02e2",
   "metadata": {},
   "outputs": [
    {
     "name": "stdout",
     "output_type": "stream",
     "text": [
      "['China', 'Estados Unidos', 'Filipinas', 'Hong Kong', 'Indonesia']\n"
     ]
    }
   ],
   "source": [
    "## Extraemos elementos desde China a Indonesia en una nueva lista\n",
    "\n",
    "newlist = alpaf[6:11]\n",
    "print(newlist)"
   ]
  },
  {
   "cell_type": "code",
   "execution_count": 17,
   "id": "0185c270",
   "metadata": {},
   "outputs": [
    {
     "data": {
      "text/plain": [
       "{'Numero atomico': [1, 6, 47, 88],\n",
       " 'Masa atomica': [1.008, 12.011, 107.87, 226],\n",
       " 'Familia': ['No metal', 'No metal', 'Metal', 'Metal']}"
      ]
     },
     "execution_count": 17,
     "metadata": {},
     "output_type": "execute_result"
    }
   ],
   "source": [
    "## Replicamos el diccionario propuesto: \n",
    "\n",
    "Diccionario={ \"Numero atomico\": [1, 6, 47, 88], \"Masa atomica\":[1.008, 12.011, 107.87, 226], \"Familia\":[\"No metal\", \"No metal\", \"Metal\", \"Metal\"]}\n",
    "\n",
    "Diccionario"
   ]
  },
  {
   "cell_type": "code",
   "execution_count": 18,
   "id": "24938b5f",
   "metadata": {},
   "outputs": [
    {
     "data": {
      "text/plain": [
       "['Numero atomico', 'Masa atomica', 'Familia']"
      ]
     },
     "execution_count": 18,
     "metadata": {},
     "output_type": "execute_result"
    }
   ],
   "source": [
    "# Identificamos keys:\n",
    "\n",
    "list(Diccionario.keys())"
   ]
  },
  {
   "cell_type": "code",
   "execution_count": 19,
   "id": "26e34582",
   "metadata": {
    "scrolled": true
   },
   "outputs": [
    {
     "data": {
      "text/plain": [
       "['No metal', 'No metal', 'Metal', 'Metal']"
      ]
     },
     "execution_count": 19,
     "metadata": {},
     "output_type": "execute_result"
    }
   ],
   "source": [
    "# Key \"Familia\"\n",
    "\n",
    "Diccionario.get(\"Familia\")"
   ]
  },
  {
   "cell_type": "code",
   "execution_count": 30,
   "id": "54ad8143",
   "metadata": {},
   "outputs": [
    {
     "data": {
      "text/plain": [
       "[1, 6, 47, 88]"
      ]
     },
     "execution_count": 30,
     "metadata": {},
     "output_type": "execute_result"
    }
   ],
   "source": [
    "# Key \"Numero atomico\"\n",
    "\n",
    "Diccionario.get(\"Numero atomico\")"
   ]
  },
  {
   "cell_type": "code",
   "execution_count": 29,
   "id": "89e83572",
   "metadata": {},
   "outputs": [
    {
     "data": {
      "text/plain": [
       "'Metal'"
      ]
     },
     "execution_count": 29,
     "metadata": {},
     "output_type": "execute_result"
    }
   ],
   "source": [
    "# Extraemos la palabra \"Metal\"\n",
    "\n",
    "Diccionario[\"Familia\"][3]"
   ]
  },
  {
   "cell_type": "code",
   "execution_count": 22,
   "id": "4860bf54",
   "metadata": {},
   "outputs": [
    {
     "data": {
      "text/plain": [
       "47"
      ]
     },
     "execution_count": 22,
     "metadata": {},
     "output_type": "execute_result"
    }
   ],
   "source": [
    "# Extraemos el numero \"47\"\n",
    "\n",
    "Diccionario[\"Numero atomico\"][2]"
   ]
  },
  {
   "cell_type": "code",
   "execution_count": 23,
   "id": "5841b169",
   "metadata": {},
   "outputs": [],
   "source": [
    "# Añadimos una nueva key llamada \"Books\"\n",
    "\n",
    "Diccionario[\"Books\"]= \"Los miserables\", \"Rayuela\", \"La Casa verde\""
   ]
  },
  {
   "cell_type": "code",
   "execution_count": 24,
   "id": "4c06bea0",
   "metadata": {
    "scrolled": true
   },
   "outputs": [
    {
     "data": {
      "text/plain": [
       "{'Numero atomico': [1, 6, 47, 88],\n",
       " 'Masa atomica': [1.008, 12.011, 107.87, 226],\n",
       " 'Familia': ['No metal', 'No metal', 'Metal', 'Metal'],\n",
       " 'Books': ('Los miserables', 'Rayuela', 'La Casa verde')}"
      ]
     },
     "execution_count": 24,
     "metadata": {},
     "output_type": "execute_result"
    }
   ],
   "source": [
    "# Vemos que la nueva \"key\" ha sido añadida\n",
    "\n",
    "Diccionario"
   ]
  }
 ],
 "metadata": {
  "kernelspec": {
   "display_name": "Python 3 (ipykernel)",
   "language": "python",
   "name": "python3"
  },
  "language_info": {
   "codemirror_mode": {
    "name": "ipython",
    "version": 3
   },
   "file_extension": ".py",
   "mimetype": "text/x-python",
   "name": "python",
   "nbconvert_exporter": "python",
   "pygments_lexer": "ipython3",
   "version": "3.9.12"
  }
 },
 "nbformat": 4,
 "nbformat_minor": 5
}

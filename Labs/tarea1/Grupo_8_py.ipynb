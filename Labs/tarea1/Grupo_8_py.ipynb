{
 "cells": [
  {
   "cell_type": "markdown",
   "id": "a2f29e9a",
   "metadata": {},
   "source": [
    "## Trabajo Grupal 1\n",
    "\n",
    "      Integrantes:\n",
    "    \n",
    "    - Renzo Mosquera (20181960)\n",
    "    - Yenner Huancahuire (20173340)\n",
    "    - Pamela Obregón (20173040)\n",
    "   \n",
    "    \n",
    "    \n",
    "    "
   ]
  },
  {
   "cell_type": "code",
   "execution_count": 6,
   "id": "1e6d5435",
   "metadata": {},
   "outputs": [
    {
     "name": "stdout",
     "output_type": "stream",
     "text": [
      "Facultad de Ciencias Sociales 2023\n"
     ]
    }
   ],
   "source": [
    "## Uso de F-string\n",
    "\n",
    "año=2023\n",
    "\n",
    "print(f\"Facultad de Ciencias Sociales {año}\")"
   ]
  },
  {
   "cell_type": "code",
   "execution_count": 3,
   "id": "0fb23eee",
   "metadata": {},
   "outputs": [
    {
     "name": "stdout",
     "output_type": "stream",
     "text": [
      "['Australia', 'Brunei', 'Darussalam', 'Canada', 'Corea', 'Chile', 'China', 'Estados Unidos', 'Filipinas', 'Hong Kong', 'Indonesia', 'Japon', 'Malasia']\n"
     ]
    }
   ],
   "source": [
    "## Lista\n",
    "\n",
    "alpaf = [\"Australia\", \"Brunei\", \"Darussalam\", \"Canada\", \"Corea\", \"Chile\",\n",
    "         \"China\", \"Estados Unidos\", \"Filipinas\", \"Hong Kong\", \"Indonesia\",\n",
    "         \"Japon\", \"Malasia\"]\n",
    "\n",
    "print(alpaf)"
   ]
  },
  {
   "cell_type": "code",
   "execution_count": 32,
   "id": "c3ac6404",
   "metadata": {},
   "outputs": [],
   "source": [
    "# Orden de cada elemento\n"
   ]
  },
  {
   "cell_type": "code",
   "execution_count": 7,
   "id": "b4e15433",
   "metadata": {},
   "outputs": [
    {
     "data": {
      "text/plain": [
       "'Chile'"
      ]
     },
     "execution_count": 7,
     "metadata": {},
     "output_type": "execute_result"
    }
   ],
   "source": [
    "## Extraemos elementos - Chile\n",
    "\n",
    "alpaf[5]   "
   ]
  },
  {
   "cell_type": "code",
   "execution_count": 8,
   "id": "ae08eb6f",
   "metadata": {},
   "outputs": [
    {
     "data": {
      "text/plain": [
       "'Malasia'"
      ]
     },
     "execution_count": 8,
     "metadata": {},
     "output_type": "execute_result"
    }
   ],
   "source": [
    "## Extraemos elementos - Malasia\n",
    "\n",
    "alpaf[12]"
   ]
  },
  {
   "cell_type": "code",
   "execution_count": 10,
   "id": "063e02e2",
   "metadata": {},
   "outputs": [
    {
     "name": "stdout",
     "output_type": "stream",
     "text": [
      "['China', 'Estados Unidos', 'Filipinas', 'Hong Kong', 'Indonesia']\n"
     ]
    }
   ],
   "source": [
    "## Extraemos elementos desde China a Indonesia\n",
    "\n",
    "newlist = alpaf[6:11]\n",
    "print(newlist)"
   ]
  },
  {
   "cell_type": "code",
   "execution_count": null,
   "id": "0185c270",
   "metadata": {},
   "outputs": [],
   "source": []
  },
  {
   "cell_type": "code",
   "execution_count": null,
   "id": "ee9cc144",
   "metadata": {},
   "outputs": [],
   "source": []
  },
  {
   "cell_type": "code",
   "execution_count": null,
   "id": "24938b5f",
   "metadata": {},
   "outputs": [],
   "source": []
  },
  {
   "cell_type": "code",
   "execution_count": null,
   "id": "26e34582",
   "metadata": {},
   "outputs": [],
   "source": []
  },
  {
   "cell_type": "code",
   "execution_count": null,
   "id": "89e83572",
   "metadata": {},
   "outputs": [],
   "source": []
  },
  {
   "cell_type": "code",
   "execution_count": null,
   "id": "4860bf54",
   "metadata": {},
   "outputs": [],
   "source": []
  }
 ],
 "metadata": {
  "kernelspec": {
   "display_name": "Python 3 (ipykernel)",
   "language": "python",
   "name": "python3"
  },
  "language_info": {
   "codemirror_mode": {
    "name": "ipython",
    "version": 3
   },
   "file_extension": ".py",
   "mimetype": "text/x-python",
   "name": "python",
   "nbconvert_exporter": "python",
   "pygments_lexer": "ipython3",
   "version": "3.9.12"
  }
 },
 "nbformat": 4,
 "nbformat_minor": 5
}

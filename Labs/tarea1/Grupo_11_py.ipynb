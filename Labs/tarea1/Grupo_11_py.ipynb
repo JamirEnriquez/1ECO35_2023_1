{
 "cells": [
  {
   "cell_type": "markdown",
   "id": "2ee4c96c",
   "metadata": {},
   "source": [
    "# Tarea 1"
   ]
  },
  {
   "cell_type": "markdown",
   "id": "2de5a674",
   "metadata": {},
   "source": [
    "## Integrantes:\n"
   ]
  },
  {
   "cell_type": "markdown",
   "id": "152ab5c9",
   "metadata": {},
   "source": [
    "Kevin Pareja (20196318)\n",
    "\n",
    "Elian Tongombol (20196453)\n",
    "\n",
    "Paola Aranda (20196052)\n",
    "\n",
    "María Alejandra Colán (20190515)"
   ]
  },
  {
   "cell_type": "markdown",
   "id": "221214de",
   "metadata": {},
   "source": [
    "### 1. F-string\n",
    "\n",
    "Use F-string para crear el siguiente texto: \"Facultad de Ciencias Sociales \\ 2023\"\n",
    "Use el año como la variable en la estructura f-string"
   ]
  },
  {
   "cell_type": "code",
   "execution_count": 2,
   "id": "e87955e4",
   "metadata": {},
   "outputs": [
    {
     "name": "stdout",
     "output_type": "stream",
     "text": [
      "Facultad de Ciencias Sociales 2023\n"
     ]
    }
   ],
   "source": [
    "año = 2023\n",
    "print(f'Facultad de Ciencias Sociales {año}')"
   ]
  },
  {
   "cell_type": "markdown",
   "id": "516b0da5",
   "metadata": {},
   "source": [
    "### 2. Lista\n",
    "\n",
    "Crear una lista de países miembros del acuerdo de la Alianza del Pacífico: Australia, Brunei Darussalam, Canadá, Corea, Chile, China, Estados Unidos, Filipinas, Hong Kong, Indonesia, Japón, Malasia.\n",
    "\n",
    "Use la lista creada para obtener a Chile.\n",
    "Use la lista creada para obtener a Malasia.\n",
    "Use la lista creada para obtener una lista de países desde China hasta Indonesia."
   ]
  },
  {
   "cell_type": "code",
   "execution_count": 3,
   "id": "9f42ec64",
   "metadata": {},
   "outputs": [],
   "source": [
    "lista = [\"Australia\", \"Brunei Darussalam\", \"Canadá\", \"Corea\", \"Chile\", \"China\", \"Estados Unidos\", \"Filipinas\",\n",
    "         \"Hong Kong\", \"Indonesia\", \"Japón\", \"Malasia\"]"
   ]
  },
  {
   "cell_type": "code",
   "execution_count": 4,
   "id": "80040007",
   "metadata": {
    "scrolled": true
   },
   "outputs": [
    {
     "name": "stdout",
     "output_type": "stream",
     "text": [
      "Chile\n"
     ]
    }
   ],
   "source": [
    "print(lista[4])"
   ]
  },
  {
   "cell_type": "code",
   "execution_count": 5,
   "id": "a0061ace",
   "metadata": {},
   "outputs": [
    {
     "name": "stdout",
     "output_type": "stream",
     "text": [
      "Malasia\n"
     ]
    }
   ],
   "source": [
    "print(lista[-1])"
   ]
  },
  {
   "cell_type": "code",
   "execution_count": 7,
   "id": "fa08fda7",
   "metadata": {},
   "outputs": [
    {
     "name": "stdout",
     "output_type": "stream",
     "text": [
      "['China', 'Estados Unidos', 'Filipinas', 'Hong Kong', 'Indonesia']\n"
     ]
    }
   ],
   "source": [
    "print(lista[5:10])"
   ]
  }
 ],
 "metadata": {
  "kernelspec": {
   "display_name": "Python 3 (ipykernel)",
   "language": "python",
   "name": "python3"
  },
  "language_info": {
   "codemirror_mode": {
    "name": "ipython",
    "version": 3
   },
   "file_extension": ".py",
   "mimetype": "text/x-python",
   "name": "python",
   "nbconvert_exporter": "python",
   "pygments_lexer": "ipython3",
   "version": "3.10.9"
  }
 },
 "nbformat": 4,
 "nbformat_minor": 5
}

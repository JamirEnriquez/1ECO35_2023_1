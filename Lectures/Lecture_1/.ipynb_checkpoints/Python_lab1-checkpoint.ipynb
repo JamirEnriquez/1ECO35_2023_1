{
 "cells": [
  {
   "cell_type": "markdown",
   "metadata": {},
   "source": [
    "# Laboratorio 1 Python\n",
    "\n",
    "### author: Roberto Mendoza\n",
    "\n",
    "## <a id='1.1'> 1.1 Types of variables  </a> \n"
   ]
  },
  {
   "cell_type": "markdown",
   "metadata": {},
   "source": [
    "\n",
    "- <a href='#1.0'> 1.0 Types of variables  </a> \n",
    "- <a href='#1.1'> 1.2 Boolean  </a> \n",
    "- <a href='#1.3'> 1.3 Tuple  </a> \n",
    "-  <a href='#1.4'> 1.4 List (lista) </a> \n",
    "- <a href='#1.5'> 1.5 Sets (conjuntos)  </a> \n",
    "- <a href='#1.6'> 1.6 Diccionario  </a> \n",
    "<!-- -  <a href='#1.7'> 1.7 Arrays and Matrix  </a>  -->"
   ]
  },
  {
   "cell_type": "code",
   "execution_count": 1,
   "metadata": {},
   "outputs": [],
   "source": [
    "# Añadir nueva liena de codigo botón: B \n",
    "# Borrar linea de codigo con: DD\n",
    "# recuperar : Z\n",
    "\n",
    "# pasar de código a comentario : Ctrl + / , Ctrol + }\n",
    "\n",
    "# unir celdas de código : Shift + M\n",
    "# dividir celdas de código : Ctrl + Shit + - (guión)\n",
    "\n",
    "# seleccionar varias lineas de codigo  Shift + tecla hacia abajo o arriba \n"
   ]
  },
  {
   "cell_type": "code",
   "execution_count": 2,
   "metadata": {},
   "outputs": [
    {
     "name": "stdout",
     "output_type": "stream",
     "text": [
      "Hola Mundo\n"
     ]
    }
   ],
   "source": [
    "print(\"Hola Mundo\")"
   ]
  },
  {
   "cell_type": "code",
   "execution_count": 3,
   "metadata": {},
   "outputs": [
    {
     "name": "stdout",
     "output_type": "stream",
     "text": [
      "Hola Mundo\n"
     ]
    }
   ],
   "source": [
    "a = \"Hola Mundo\"\n",
    "print(a)"
   ]
  },
  {
   "cell_type": "code",
   "execution_count": 4,
   "metadata": {
    "scrolled": false
   },
   "outputs": [
    {
     "data": {
      "text/plain": [
       "float"
      ]
     },
     "execution_count": 4,
     "metadata": {},
     "output_type": "execute_result"
    }
   ],
   "source": [
    "a1 = 3.141\n",
    "\n",
    "type(a1)\n",
    "\n",
    "## Ctrl + Enter"
   ]
  },
  {
   "cell_type": "code",
   "execution_count": 5,
   "metadata": {},
   "outputs": [
    {
     "data": {
      "text/plain": [
       "int"
      ]
     },
     "execution_count": 5,
     "metadata": {},
     "output_type": "execute_result"
    }
   ],
   "source": [
    "# from float to int \n",
    "\n",
    "c = int(a1)\n",
    "type(c)\n",
    "\n",
    "b1 = 10000\n",
    "type(b1)"
   ]
  },
  {
   "cell_type": "code",
   "execution_count": 6,
   "metadata": {},
   "outputs": [
    {
     "data": {
      "text/plain": [
       "int"
      ]
     },
     "execution_count": 6,
     "metadata": {},
     "output_type": "execute_result"
    }
   ],
   "source": [
    "# from int to float \n",
    "\n",
    "float(b1)\n",
    "\n",
    "b2 = 8\n",
    "type(b2)"
   ]
  },
  {
   "cell_type": "code",
   "execution_count": 7,
   "metadata": {},
   "outputs": [
    {
     "name": "stdout",
     "output_type": "stream",
     "text": [
      "5\n",
      "16\n",
      "16\n"
     ]
    }
   ],
   "source": [
    "# Round a number\n",
    "\n",
    "print(round(4.51) )\n",
    "\n",
    "# Power\n",
    "\n",
    "print(pow(4,2)) # using function pow\n",
    "print(4**2)  # using **"
   ]
  },
  {
   "cell_type": "code",
   "execution_count": 8,
   "metadata": {},
   "outputs": [
    {
     "name": "stdout",
     "output_type": "stream",
     "text": [
      "My first python code\n"
     ]
    },
    {
     "data": {
      "text/plain": [
       "str"
      ]
     },
     "execution_count": 8,
     "metadata": {},
     "output_type": "execute_result"
    }
   ],
   "source": [
    "c1 = \"My first python code\"  # \"My first python code\" usando doble comilla\n",
    "print(c1)  # show that varaible's content\n",
    "type(c1) # providing varaibles's type "
   ]
  },
  {
   "cell_type": "code",
   "execution_count": 9,
   "metadata": {},
   "outputs": [
    {
     "name": "stdout",
     "output_type": "stream",
     "text": [
      "First python code \n",
      " at R y python Class\n"
     ]
    }
   ],
   "source": [
    "# including a space using \\n\n",
    "\n",
    "c1 = \"First python code\"\n",
    "c2 = \"at R y python Class\"\n",
    "print(c1,'\\n',c2)"
   ]
  },
  {
   "cell_type": "code",
   "execution_count": 10,
   "metadata": {},
   "outputs": [
    {
     "name": "stdout",
     "output_type": "stream",
     "text": [
      "First python code : at R y python Class\n"
     ]
    }
   ],
   "source": [
    "# join string \n",
    "\n",
    "print(c1 + \" : \" + c2)"
   ]
  },
  {
   "cell_type": "code",
   "execution_count": 11,
   "metadata": {},
   "outputs": [
    {
     "name": "stdout",
     "output_type": "stream",
     "text": [
      "First python code : semester 2022-1\n"
     ]
    }
   ],
   "source": [
    "# f-string\n",
    "\n",
    "print(f'{c1} : semester 2022-1')\n",
    "\n"
   ]
  },
  {
   "cell_type": "code",
   "execution_count": 12,
   "metadata": {},
   "outputs": [],
   "source": [
    "d = 2022"
   ]
  },
  {
   "cell_type": "code",
   "execution_count": 13,
   "metadata": {
    "scrolled": true
   },
   "outputs": [
    {
     "name": "stdout",
     "output_type": "stream",
     "text": [
      "First python code : semester 2022-1\n"
     ]
    }
   ],
   "source": [
    "print(f'{c1} : semester {d}-1')"
   ]
  },
  {
   "cell_type": "code",
   "execution_count": 14,
   "metadata": {},
   "outputs": [
    {
     "name": "stdout",
     "output_type": "stream",
     "text": [
      "First python code : semester 2022-1\n"
     ]
    }
   ],
   "source": [
    "print('{} : semester {}-1'.format(c1,d))"
   ]
  },
  {
   "cell_type": "code",
   "execution_count": 15,
   "metadata": {},
   "outputs": [
    {
     "data": {
      "text/plain": [
       "'First'"
      ]
     },
     "execution_count": 15,
     "metadata": {},
     "output_type": "execute_result"
    }
   ],
   "source": [
    "# Substr elements from string\n",
    "\n",
    "c1[0:5]"
   ]
  },
  {
   "cell_type": "code",
   "execution_count": 16,
   "metadata": {},
   "outputs": [
    {
     "name": "stdout",
     "output_type": "stream",
     "text": [
      "Fisrt letter is : F\n"
     ]
    }
   ],
   "source": [
    "#first character\n",
    "print('Fisrt letter is :',c1[0])"
   ]
  },
  {
   "cell_type": "code",
   "execution_count": 17,
   "metadata": {},
   "outputs": [
    {
     "name": "stdout",
     "output_type": "stream",
     "text": [
      "Fisrt word is : First\n"
     ]
    }
   ],
   "source": [
    "#first word\n",
    "print('Fisrt word is :',c1[0:5])"
   ]
  },
  {
   "cell_type": "code",
   "execution_count": 18,
   "metadata": {},
   "outputs": [
    {
     "name": "stdout",
     "output_type": "stream",
     "text": [
      "Los datos de mi mascota sont:\n",
      "Nombre \t: Sugar\n",
      "Raza \t: Sharpei\n",
      "Color\t: Marron\n"
     ]
    }
   ],
   "source": [
    "# \\t: tab(), \\n: enter\n",
    "\n",
    "print('Los datos de mi mascota sont:\\nNombre \\t: Sugar\\nRaza \\t: Sharpei\\nColor\\t: Marron')"
   ]
  },
  {
   "cell_type": "code",
   "execution_count": 19,
   "metadata": {},
   "outputs": [
    {
     "name": "stdout",
     "output_type": "stream",
     "text": [
      "Los datos de mi mascota son:\\nNombre \\t: Sugar\\nRaza \\t: Sharpei\\nColor\\t: Marron\n"
     ]
    }
   ],
   "source": [
    "# raw string: it treats backslashes as a literal (raw) character\n",
    "# We use r'' to set a path, to call a datasets\n",
    "print(r'Los datos de mi mascota son:\\nNombre \\t: Sugar\\nRaza \\t: Sharpei\\nColor\\t: Marron')"
   ]
  },
  {
   "cell_type": "code",
   "execution_count": 20,
   "metadata": {},
   "outputs": [
    {
     "data": {
      "text/plain": [
       "\"It's a string with a single quote\""
      ]
     },
     "execution_count": 20,
     "metadata": {},
     "output_type": "execute_result"
    }
   ],
   "source": [
    "# quotes ?\n",
    "\n",
    "text_1 = \"It's a string with a single quote\"\n",
    "text_2 = 'It\\'s a string with a single quote'\n",
    "text_2"
   ]
  },
  {
   "cell_type": "code",
   "execution_count": 21,
   "metadata": {},
   "outputs": [],
   "source": [
    "# String operations\n",
    "\n",
    "string_1 = 'hello world'\n",
    "string_2 = '10'"
   ]
  },
  {
   "cell_type": "code",
   "execution_count": 22,
   "metadata": {},
   "outputs": [
    {
     "data": {
      "text/plain": [
       "'Hello world'"
      ]
     },
     "execution_count": 22,
     "metadata": {},
     "output_type": "execute_result"
    }
   ],
   "source": [
    "# Capital letter the first word\n",
    "\n",
    "string_1.capitalize()"
   ]
  },
  {
   "cell_type": "code",
   "execution_count": 23,
   "metadata": {},
   "outputs": [
    {
     "data": {
      "text/plain": [
       "'HELLO WORLD'"
      ]
     },
     "execution_count": 23,
     "metadata": {},
     "output_type": "execute_result"
    }
   ],
   "source": [
    "# All capital case\n",
    "\n",
    "string_1.upper()"
   ]
  },
  {
   "cell_type": "code",
   "execution_count": 24,
   "metadata": {
    "colab": {
     "base_uri": "https://localhost:8080/",
     "height": 37
    },
    "id": "GazY8gCq63e3",
    "outputId": "e311b6ee-b2b7-486c-9879-149a7a45f3a7"
   },
   "outputs": [
    {
     "data": {
      "text/plain": [
       "'hello world'"
      ]
     },
     "execution_count": 24,
     "metadata": {},
     "output_type": "execute_result"
    }
   ],
   "source": [
    "# Lower case\n",
    "\n",
    "string_1.lower()"
   ]
  },
  {
   "cell_type": "code",
   "execution_count": 25,
   "metadata": {
    "colab": {
     "base_uri": "https://localhost:8080/",
     "height": 37
    },
    "id": "YrfKh--W67Xx",
    "outputId": "84e30305-b4a7-4ea1-92bc-7b301bcb9451"
   },
   "outputs": [
    {
     "data": {
      "text/plain": [
       "'Hello World'"
      ]
     },
     "execution_count": 25,
     "metadata": {},
     "output_type": "execute_result"
    }
   ],
   "source": [
    "# Title\n",
    "\n",
    "string_1.title()"
   ]
  },
  {
   "cell_type": "code",
   "execution_count": 26,
   "metadata": {
    "colab": {
     "base_uri": "https://localhost:8080/"
    },
    "id": "4t0Nayk-59Jd",
    "outputId": "aec8779e-4dad-4798-a4fa-0443e6e77242"
   },
   "outputs": [
    {
     "data": {
      "text/plain": [
       "3"
      ]
     },
     "execution_count": 26,
     "metadata": {},
     "output_type": "execute_result"
    }
   ],
   "source": [
    "# How many l ?\n",
    "\n",
    "string_1.count('l')"
   ]
  },
  {
   "cell_type": "code",
   "execution_count": 27,
   "metadata": {
    "colab": {
     "base_uri": "https://localhost:8080/"
    },
    "id": "8ADA83jM7Gfk",
    "outputId": "7d2ae0b2-442e-4da7-f390-46349f6141b3"
   },
   "outputs": [
    {
     "data": {
      "text/plain": [
       "11"
      ]
     },
     "execution_count": 27,
     "metadata": {},
     "output_type": "execute_result"
    }
   ],
   "source": [
    "# Longitud de un string\n",
    "len(string_1)"
   ]
  },
  {
   "cell_type": "code",
   "execution_count": 28,
   "metadata": {
    "colab": {
     "base_uri": "https://localhost:8080/"
    },
    "id": "VpmUqst97Gpl",
    "outputId": "3604ca19-17e3-41f2-8e73-b76b7225931a"
   },
   "outputs": [
    {
     "data": {
      "text/plain": [
       "['hello', 'world']"
      ]
     },
     "execution_count": 28,
     "metadata": {},
     "output_type": "execute_result"
    }
   ],
   "source": [
    "# split an string\n",
    "string_1.split()"
   ]
  },
  {
   "cell_type": "code",
   "execution_count": 29,
   "metadata": {
    "colab": {
     "base_uri": "https://localhost:8080/"
    },
    "id": "jOd2bSDK7Xu7",
    "outputId": "1712bdc9-fdc1-45fa-c886-4579da497f9c"
   },
   "outputs": [
    {
     "data": {
      "text/plain": [
       "['hello ', 'orld']"
      ]
     },
     "execution_count": 29,
     "metadata": {},
     "output_type": "execute_result"
    }
   ],
   "source": [
    "string_1.split('w')"
   ]
  },
  {
   "cell_type": "code",
   "execution_count": 30,
   "metadata": {},
   "outputs": [
    {
     "name": "stdout",
     "output_type": "stream",
     "text": [
      "['I', 'love', 'Python', 'and', 'not', 'R'] ['I', 'love Python and not R'] ['I', 'love', 'Python and not R']\n"
     ]
    }
   ],
   "source": [
    "str0 = 'I love Python and not R'\n",
    "\n",
    "#Separar Strings\n",
    "str1 = str0.split(' ')\n",
    "str2 = str0.split(' ', maxsplit=1)\n",
    "str3 = str0.split(' ', maxsplit=2)\n",
    "print(str1, str2, str3)"
   ]
  },
  {
   "cell_type": "code",
   "execution_count": 31,
   "metadata": {},
   "outputs": [
    {
     "name": "stdout",
     "output_type": "stream",
     "text": [
      "edad + gender + college + exp\n"
     ]
    }
   ],
   "source": [
    "# Join elements of a list \n",
    "\n",
    "var_list = ['edad', 'gender', 'college', 'exp']\n",
    "var_list = ' + '.join(var_list)\n",
    "print(var_list)"
   ]
  },
  {
   "cell_type": "code",
   "execution_count": 32,
   "metadata": {
    "colab": {
     "base_uri": "https://localhost:8080/",
     "height": 37
    },
    "id": "gYR3lKVB7byq",
    "outputId": "2f161ec2-bbe4-4674-ddc4-beb9bc6e2b48"
   },
   "outputs": [
    {
     "data": {
      "text/plain": [
       "'(Hello World),'"
      ]
     },
     "execution_count": 32,
     "metadata": {},
     "output_type": "execute_result"
    }
   ],
   "source": [
    "# Clean a string \n",
    "string_4 = ' (Hello World), '\n",
    "string_4.strip() # by default clean empty at the ends"
   ]
  },
  {
   "cell_type": "code",
   "execution_count": 33,
   "metadata": {
    "colab": {
     "base_uri": "https://localhost:8080/",
     "height": 37
    },
    "id": "g1Wrbf-w76Mw",
    "outputId": "fb710dcf-1105-4e16-d042-765a3f936229"
   },
   "outputs": [
    {
     "data": {
      "text/plain": [
       "'Hello World'"
      ]
     },
     "execution_count": 33,
     "metadata": {},
     "output_type": "execute_result"
    }
   ],
   "source": [
    "string_4.strip('(), ') # clean (),"
   ]
  },
  {
   "cell_type": "code",
   "execution_count": 34,
   "metadata": {
    "colab": {
     "base_uri": "https://localhost:8080/",
     "height": 37
    },
    "id": "XJPMFQst8Fng",
    "outputId": "10b17d1f-5e7c-4dbb-d70a-2de0f6ed071d"
   },
   "outputs": [
    {
     "data": {
      "text/plain": [
       "'Hi World'"
      ]
     },
     "execution_count": 34,
     "metadata": {},
     "output_type": "execute_result"
    }
   ],
   "source": [
    "# Replace string\n",
    "string_5 = 'Hello World'\n",
    "string_5.replace('Hello', 'Hi')"
   ]
  },
  {
   "cell_type": "code",
   "execution_count": 35,
   "metadata": {},
   "outputs": [
    {
     "data": {
      "text/plain": [
       "' (Hello World), '"
      ]
     },
     "execution_count": 35,
     "metadata": {},
     "output_type": "execute_result"
    }
   ],
   "source": [
    "string_4"
   ]
  },
  {
   "cell_type": "code",
   "execution_count": 36,
   "metadata": {
    "colab": {
     "base_uri": "https://localhost:8080/"
    },
    "id": "bUS37S9iy4yR",
    "outputId": "ce4b0aa4-8124-4f1d-c260-36446fc0955d"
   },
   "outputs": [
    {
     "data": {
      "text/plain": [
       "6"
      ]
     },
     "execution_count": 36,
     "metadata": {},
     "output_type": "execute_result"
    }
   ],
   "source": [
    "# Encontrando posicion de una parte del string\n",
    "string_4.index('o')"
   ]
  },
  {
   "cell_type": "code",
   "execution_count": 37,
   "metadata": {
    "colab": {
     "base_uri": "https://localhost:8080/",
     "height": 37
    },
    "id": "10exqdC28s3T",
    "outputId": "e5d08dc6-856a-44aa-b895-41d8a15302c1"
   },
   "outputs": [
    {
     "data": {
      "text/plain": [
       "'(Hello World'"
      ]
     },
     "execution_count": 37,
     "metadata": {},
     "output_type": "execute_result"
    }
   ],
   "source": [
    "string_4[1:-3]"
   ]
  },
  {
   "cell_type": "code",
   "execution_count": 38,
   "metadata": {
    "colab": {
     "base_uri": "https://localhost:8080/",
     "height": 37
    },
    "id": "qEqgNBlX8if2",
    "outputId": "1f4c38f7-75d1-4730-e601-2c0360800d2e"
   },
   "outputs": [
    {
     "data": {
      "text/plain": [
       "' ,)dlroW olleH( '"
      ]
     },
     "execution_count": 38,
     "metadata": {},
     "output_type": "execute_result"
    }
   ],
   "source": [
    "# invert an string\n",
    "string_4[::-1]"
   ]
  },
  {
   "cell_type": "code",
   "execution_count": 39,
   "metadata": {
    "colab": {
     "base_uri": "https://localhost:8080/"
    },
    "id": "dDqcplI-8_UM",
    "outputId": "54416b66-19f5-4fd4-da5a-1540e0fccad4"
   },
   "outputs": [
    {
     "data": {
      "text/plain": [
       "['HELLO', 'WORLD']"
      ]
     },
     "execution_count": 39,
     "metadata": {},
     "output_type": "execute_result"
    }
   ],
   "source": [
    "# Example\n",
    "\n",
    "string_4.strip('(), ').upper().split()"
   ]
  },
  {
   "cell_type": "markdown",
   "metadata": {},
   "source": [
    "## <a id='1.2'> 1.2 Boolean  </a> \n",
    "\n",
    "It’s used to represent the truth value of an expression."
   ]
  },
  {
   "cell_type": "code",
   "execution_count": 40,
   "metadata": {},
   "outputs": [
    {
     "name": "stdout",
     "output_type": "stream",
     "text": [
      "<class 'bool'>\n"
     ]
    }
   ],
   "source": [
    "page = True\n",
    "print(type(page))"
   ]
  },
  {
   "cell_type": "code",
   "execution_count": 41,
   "metadata": {
    "scrolled": false
   },
   "outputs": [
    {
     "data": {
      "text/plain": [
       "True"
      ]
     },
     "execution_count": 41,
     "metadata": {},
     "output_type": "execute_result"
    }
   ],
   "source": [
    "\"a\" == \"a\""
   ]
  },
  {
   "cell_type": "code",
   "execution_count": 42,
   "metadata": {},
   "outputs": [
    {
     "data": {
      "text/plain": [
       "False"
      ]
     },
     "execution_count": 42,
     "metadata": {},
     "output_type": "execute_result"
    }
   ],
   "source": [
    "1 > 1"
   ]
  },
  {
   "cell_type": "code",
   "execution_count": 43,
   "metadata": {},
   "outputs": [
    {
     "data": {
      "text/plain": [
       "True"
      ]
     },
     "execution_count": 43,
     "metadata": {},
     "output_type": "execute_result"
    }
   ],
   "source": [
    "z1 = (1==1)\n",
    "z1 "
   ]
  },
  {
   "cell_type": "code",
   "execution_count": 44,
   "metadata": {},
   "outputs": [
    {
     "data": {
      "text/plain": [
       "1"
      ]
     },
     "execution_count": 44,
     "metadata": {},
     "output_type": "execute_result"
    }
   ],
   "source": [
    "int(z1)  # true is 1 in numerical system"
   ]
  },
  {
   "cell_type": "code",
   "execution_count": 45,
   "metadata": {},
   "outputs": [
    {
     "data": {
      "text/plain": [
       "0"
      ]
     },
     "execution_count": 45,
     "metadata": {},
     "output_type": "execute_result"
    }
   ],
   "source": [
    "z2 = (10 > 20) \n",
    "int(z2) # false is 0 in numerical system"
   ]
  },
  {
   "cell_type": "code",
   "execution_count": 46,
   "metadata": {},
   "outputs": [
    {
     "name": "stdout",
     "output_type": "stream",
     "text": [
      "Resultado para 2>1: True\n",
      "Resultado para 2<1: False\n",
      "Resultado para 2<=1: False\n",
      "Resultado para 2>=1: True\n",
      "Resultado para 2==2: True\n",
      "Resultado para 2!=2: False\n",
      "Resultado para 'a'=='A': False\n",
      "Resultado para 'a'>'b': False\n"
     ]
    }
   ],
   "source": [
    "print(f\"Resultado para 2>1: {2>1}\")\n",
    "print(f\"Resultado para 2<1: {2<1}\")\n",
    "print(f\"Resultado para 2<=1: {2<=1}\")\n",
    "print(f\"Resultado para 2>=1: {2>=1}\")\n",
    "print(f\"Resultado para 2==2: {2==2}\")\n",
    "print(f\"Resultado para 2!=2: {2!=2}\")\n",
    "print(f\"Resultado para 'a'=='A': {'a' == 'A'}\")\n",
    "print(f\"Resultado para 'a'>'b': {'a' > 'b'}\")"
   ]
  },
  {
   "cell_type": "code",
   "execution_count": 47,
   "metadata": {},
   "outputs": [
    {
     "data": {
      "text/plain": [
       "False"
      ]
     },
     "execution_count": 47,
     "metadata": {},
     "output_type": "execute_result"
    }
   ],
   "source": [
    "# Logic operators \n",
    "\n",
    "not True"
   ]
  },
  {
   "cell_type": "code",
   "execution_count": 48,
   "metadata": {},
   "outputs": [
    {
     "data": {
      "text/plain": [
       "True"
      ]
     },
     "execution_count": 48,
     "metadata": {},
     "output_type": "execute_result"
    }
   ],
   "source": [
    "not False"
   ]
  },
  {
   "cell_type": "code",
   "execution_count": 49,
   "metadata": {},
   "outputs": [
    {
     "data": {
      "text/plain": [
       "True"
      ]
     },
     "execution_count": 49,
     "metadata": {},
     "output_type": "execute_result"
    }
   ],
   "source": [
    "True and True"
   ]
  },
  {
   "cell_type": "code",
   "execution_count": 50,
   "metadata": {},
   "outputs": [
    {
     "data": {
      "text/plain": [
       "False"
      ]
     },
     "execution_count": 50,
     "metadata": {},
     "output_type": "execute_result"
    }
   ],
   "source": [
    "True and False"
   ]
  },
  {
   "cell_type": "code",
   "execution_count": 51,
   "metadata": {},
   "outputs": [
    {
     "data": {
      "text/plain": [
       "True"
      ]
     },
     "execution_count": 51,
     "metadata": {},
     "output_type": "execute_result"
    }
   ],
   "source": [
    "True or False"
   ]
  },
  {
   "cell_type": "code",
   "execution_count": 52,
   "metadata": {},
   "outputs": [
    {
     "data": {
      "text/plain": [
       "2"
      ]
     },
     "execution_count": 52,
     "metadata": {},
     "output_type": "execute_result"
    }
   ],
   "source": [
    "True + True"
   ]
  },
  {
   "cell_type": "code",
   "execution_count": 53,
   "metadata": {},
   "outputs": [
    {
     "data": {
      "text/plain": [
       "1"
      ]
     },
     "execution_count": 53,
     "metadata": {},
     "output_type": "execute_result"
    }
   ],
   "source": [
    "False + True"
   ]
  },
  {
   "cell_type": "code",
   "execution_count": 54,
   "metadata": {},
   "outputs": [
    {
     "data": {
      "text/plain": [
       "1"
      ]
     },
     "execution_count": 54,
     "metadata": {},
     "output_type": "execute_result"
    }
   ],
   "source": [
    "int(True)"
   ]
  },
  {
   "cell_type": "code",
   "execution_count": 55,
   "metadata": {},
   "outputs": [
    {
     "data": {
      "text/plain": [
       "0"
      ]
     },
     "execution_count": 55,
     "metadata": {},
     "output_type": "execute_result"
    }
   ],
   "source": [
    "int(False)"
   ]
  },
  {
   "cell_type": "code",
   "execution_count": 56,
   "metadata": {},
   "outputs": [
    {
     "data": {
      "text/plain": [
       "0.0"
      ]
     },
     "execution_count": 56,
     "metadata": {},
     "output_type": "execute_result"
    }
   ],
   "source": [
    "float(False)"
   ]
  },
  {
   "cell_type": "code",
   "execution_count": 57,
   "metadata": {},
   "outputs": [
    {
     "data": {
      "text/plain": [
       "1.0"
      ]
     },
     "execution_count": 57,
     "metadata": {},
     "output_type": "execute_result"
    }
   ],
   "source": [
    "float(True)"
   ]
  },
  {
   "cell_type": "code",
   "execution_count": 58,
   "metadata": {},
   "outputs": [
    {
     "name": "stdout",
     "output_type": "stream",
     "text": [
      "100 is 100. is: False\n",
      "100 is not 100. is: True\n"
     ]
    },
    {
     "name": "stderr",
     "output_type": "stream",
     "text": [
      "<>:1: SyntaxWarning: \"is\" with a literal. Did you mean \"==\"?\n",
      "<>:2: SyntaxWarning: \"is not\" with a literal. Did you mean \"!=\"?\n",
      "<>:1: SyntaxWarning: \"is\" with a literal. Did you mean \"==\"?\n",
      "<>:2: SyntaxWarning: \"is not\" with a literal. Did you mean \"!=\"?\n",
      "C:\\Users\\Roberto\\AppData\\Local\\Temp\\ipykernel_7860\\3273949516.py:1: SyntaxWarning: \"is\" with a literal. Did you mean \"==\"?\n",
      "  print(\"100 is 100. is:\", 10 is 10.)\n",
      "C:\\Users\\Roberto\\AppData\\Local\\Temp\\ipykernel_7860\\3273949516.py:2: SyntaxWarning: \"is not\" with a literal. Did you mean \"!=\"?\n",
      "  print(\"100 is not 100. is:\", 10 is not 10.)\n"
     ]
    }
   ],
   "source": [
    "print(\"100 is 100. is:\", 10 is 10.)\n",
    "print(\"100 is not 100. is:\", 10 is not 10.)"
   ]
  },
  {
   "cell_type": "markdown",
   "metadata": {},
   "source": [
    "## <a id='1.3'> 1.3 Tuple  </a> \n",
    "\n",
    "It is an ordered and immutable Python object"
   ]
  },
  {
   "cell_type": "code",
   "execution_count": 59,
   "metadata": {},
   "outputs": [
    {
     "data": {
      "text/plain": [
       "tuple"
      ]
     },
     "execution_count": 59,
     "metadata": {},
     "output_type": "execute_result"
    }
   ],
   "source": [
    "T1 = (1,4,8,10,20,15,4,5,3,8)\n",
    "\n",
    "type(T1)"
   ]
  },
  {
   "cell_type": "code",
   "execution_count": 60,
   "metadata": {},
   "outputs": [
    {
     "name": "stdout",
     "output_type": "stream",
     "text": [
      "Suma: 78 \n",
      " Minimo: 1 \n",
      " Maximo: 20\n"
     ]
    }
   ],
   "source": [
    "# aritmethic operations\n",
    "\n",
    "print('Suma:', sum(T1),\"\\n\", \"Minimo:\", min(T1), '\\n', \"Maximo:\", max(T1))"
   ]
  },
  {
   "cell_type": "code",
   "execution_count": 61,
   "metadata": {},
   "outputs": [
    {
     "data": {
      "text/plain": [
       "10"
      ]
     },
     "execution_count": 61,
     "metadata": {},
     "output_type": "execute_result"
    }
   ],
   "source": [
    "len(T1) # lenght of tuple"
   ]
  },
  {
   "cell_type": "markdown",
   "metadata": {},
   "source": [
    "## Indexing Tuple. Overall,  all list object in python "
   ]
  },
  {
   "cell_type": "code",
   "execution_count": 62,
   "metadata": {},
   "outputs": [
    {
     "data": {
      "text/plain": [
       "1"
      ]
     },
     "execution_count": 62,
     "metadata": {},
     "output_type": "execute_result"
    }
   ],
   "source": [
    "T1 = (1,4,8,10,20,15,4,5,3,8)\n",
    "\n",
    "\n",
    "T1[0]"
   ]
  },
  {
   "cell_type": "code",
   "execution_count": 63,
   "metadata": {},
   "outputs": [
    {
     "data": {
      "text/plain": [
       "(1, 4, 8, 10, 20)"
      ]
     },
     "execution_count": 63,
     "metadata": {},
     "output_type": "execute_result"
    }
   ],
   "source": [
    "T1[0:5] # desde la posición 0 hasta el 4 "
   ]
  },
  {
   "cell_type": "code",
   "execution_count": 64,
   "metadata": {},
   "outputs": [
    {
     "data": {
      "text/plain": [
       "4"
      ]
     },
     "execution_count": 64,
     "metadata": {},
     "output_type": "execute_result"
    }
   ],
   "source": [
    "T1[1] # get tuple's element "
   ]
  },
  {
   "cell_type": "code",
   "execution_count": 65,
   "metadata": {},
   "outputs": [
    {
     "data": {
      "text/plain": [
       "(1, 4, 8)"
      ]
     },
     "execution_count": 65,
     "metadata": {},
     "output_type": "execute_result"
    }
   ],
   "source": [
    "T1[0:3]\n"
   ]
  },
  {
   "cell_type": "code",
   "execution_count": 66,
   "metadata": {},
   "outputs": [
    {
     "ename": "TypeError",
     "evalue": "'tuple' object does not support item assignment",
     "output_type": "error",
     "traceback": [
      "\u001b[1;31m---------------------------------------------------------------------------\u001b[0m",
      "\u001b[1;31mTypeError\u001b[0m                                 Traceback (most recent call last)",
      "Input \u001b[1;32mIn [66]\u001b[0m, in \u001b[0;36m<cell line: 2>\u001b[1;34m()\u001b[0m\n\u001b[0;32m      1\u001b[0m \u001b[38;5;66;03m# It is not possible to change\u001b[39;00m\n\u001b[1;32m----> 2\u001b[0m T1[\u001b[38;5;241m0\u001b[39m] \u001b[38;5;241m=\u001b[39m \u001b[38;5;241m4\u001b[39m\n",
      "\u001b[1;31mTypeError\u001b[0m: 'tuple' object does not support item assignment"
     ]
    }
   ],
   "source": [
    "# It is not possible to change\n",
    "T1[0] = 4"
   ]
  },
  {
   "cell_type": "code",
   "execution_count": 67,
   "metadata": {},
   "outputs": [
    {
     "data": {
      "text/plain": [
       "(5, 3)"
      ]
     },
     "execution_count": 67,
     "metadata": {},
     "output_type": "execute_result"
    }
   ],
   "source": [
    "T1 = (1,4,8,10,20,15,4,5,3,8)\n",
    "#                   -3,-2,-1\n",
    "T1[-3:-1]"
   ]
  },
  {
   "cell_type": "code",
   "execution_count": 68,
   "metadata": {},
   "outputs": [
    {
     "data": {
      "text/plain": [
       "2"
      ]
     },
     "execution_count": 68,
     "metadata": {},
     "output_type": "execute_result"
    }
   ],
   "source": [
    "#position\n",
    "T1.index(8)"
   ]
  },
  {
   "cell_type": "code",
   "execution_count": 69,
   "metadata": {},
   "outputs": [
    {
     "name": "stdout",
     "output_type": "stream",
     "text": [
      "Tupla with t: ((1, 2, 3), 'a', 'b')\n",
      "Tupla with *t: (1, 2, 3, 'a', 'b')\n"
     ]
    }
   ],
   "source": [
    "# Creando una tupla a partir de otra\n",
    "t = (1, 2, 3)\n",
    "t1 = (t, 'a', 'b') # tupla into a tupla \n",
    "t2  = (*t, 'a', 'b') # join tuplas\n",
    "\n",
    "print(f'Tupla with t: {t1}')\n",
    "print(f'Tupla with *t: {t2}')"
   ]
  },
  {
   "cell_type": "markdown",
   "metadata": {},
   "source": [
    "## <a id='1.4'> 1.4 List (lista) </a> \n",
    "\n",
    "#### It is an ordered and mutable Python container."
   ]
  },
  {
   "cell_type": "code",
   "execution_count": 70,
   "metadata": {},
   "outputs": [
    {
     "name": "stdout",
     "output_type": "stream",
     "text": [
      "[]\n"
     ]
    },
    {
     "data": {
      "text/plain": [
       "list"
      ]
     },
     "execution_count": 70,
     "metadata": {},
     "output_type": "execute_result"
    }
   ],
   "source": [
    "# alternative way to create an empty list \n",
    "\n",
    "L1 = []\n",
    "L2 = list()\n",
    "print(L1)\n",
    "type(L2)"
   ]
  },
  {
   "cell_type": "code",
   "execution_count": 71,
   "metadata": {},
   "outputs": [
    {
     "data": {
      "text/plain": [
       "[1, 2, 3, 4]"
      ]
     },
     "execution_count": 71,
     "metadata": {},
     "output_type": "execute_result"
    }
   ],
   "source": [
    "# Mix 2 lits\n",
    "l1 = [1, 2]\n",
    "l2 = [3, 4]\n",
    "l3 = l1 + l2\n",
    "l3"
   ]
  },
  {
   "cell_type": "code",
   "execution_count": 72,
   "metadata": {},
   "outputs": [
    {
     "data": {
      "text/plain": [
       "['ATE', 'BARRANCO', 'BREÑA', 'CALLAO', 'CARABAYLLO']"
      ]
     },
     "execution_count": 72,
     "metadata": {},
     "output_type": "execute_result"
    }
   ],
   "source": [
    "dis1 = [ \"ATE\", 'BARRANCO','BREÑA', 'CALLAO', 'CARABAYLLO' ] \n",
    "dis1"
   ]
  },
  {
   "cell_type": "code",
   "execution_count": 73,
   "metadata": {},
   "outputs": [
    {
     "data": {
      "text/plain": [
       "['CARABAYLLO', 'ATE', 'BARRANCO', 'BREÑA']"
      ]
     },
     "execution_count": 73,
     "metadata": {},
     "output_type": "execute_result"
    }
   ],
   "source": [
    "# Reorder\n",
    "\n",
    "[dis1[4]] + dis1[:3]"
   ]
  },
  {
   "cell_type": "code",
   "execution_count": 74,
   "metadata": {},
   "outputs": [],
   "source": [
    "dis2 = ['ATE', 'BARRANCO','BREÑA', 'CALLAO', 'CARABAYLLO','CHACLACAYO','CHORRILLOS','CIENEGUILLA'\n",
    "        ,'COMAS','EL_AGUSTINO','INDEPENDENCIA']"
   ]
  },
  {
   "cell_type": "code",
   "execution_count": 75,
   "metadata": {},
   "outputs": [
    {
     "data": {
      "text/plain": [
       "11"
      ]
     },
     "execution_count": 75,
     "metadata": {},
     "output_type": "execute_result"
    }
   ],
   "source": [
    "len(dis2) # numero de elementos "
   ]
  },
  {
   "cell_type": "code",
   "execution_count": 76,
   "metadata": {
    "scrolled": false
   },
   "outputs": [
    {
     "name": "stdout",
     "output_type": "stream",
     "text": [
      "['CALLAO', 'BARRANCO', 'BREÑA', 'CALLAO', 'CARABAYLLO', 'CHACLACAYO', 'CHORRILLOS', 'CIENEGUILLA', 'COMAS', 'EL_AGUSTINO', 'INDEPENDENCIA']\n"
     ]
    }
   ],
   "source": [
    "dis2[0] = \"CALLAO\"\n",
    "print(dis2)"
   ]
  },
  {
   "cell_type": "code",
   "execution_count": 77,
   "metadata": {},
   "outputs": [
    {
     "name": "stdout",
     "output_type": "stream",
     "text": [
      "BARRANCO\n"
     ]
    }
   ],
   "source": [
    "# Idenxing\n",
    "\n",
    "print(dis2[1])"
   ]
  },
  {
   "cell_type": "code",
   "execution_count": 78,
   "metadata": {},
   "outputs": [
    {
     "data": {
      "text/plain": [
       "['BREÑA', 'CALLAO', 'CARABAYLLO']"
      ]
     },
     "execution_count": 78,
     "metadata": {},
     "output_type": "execute_result"
    }
   ],
   "source": [
    "dis2[2:5]   # (5-1=4)"
   ]
  },
  {
   "cell_type": "code",
   "execution_count": 79,
   "metadata": {},
   "outputs": [
    {
     "data": {
      "text/plain": [
       "['CALLAO', 'CARABAYLLO', 'CHACLACAYO', 'CHORRILLOS']"
      ]
     },
     "execution_count": 79,
     "metadata": {},
     "output_type": "execute_result"
    }
   ],
   "source": [
    "dis2[3:7]"
   ]
  },
  {
   "cell_type": "code",
   "execution_count": 80,
   "metadata": {},
   "outputs": [
    {
     "data": {
      "text/plain": [
       "['CHORRILLOS', 'CIENEGUILLA', 'COMAS', 'EL_AGUSTINO']"
      ]
     },
     "execution_count": 80,
     "metadata": {},
     "output_type": "execute_result"
    }
   ],
   "source": [
    "dis2[-5:-1]"
   ]
  },
  {
   "cell_type": "code",
   "execution_count": 81,
   "metadata": {},
   "outputs": [
    {
     "name": "stdout",
     "output_type": "stream",
     "text": [
      "[1, 5, 5, 5, 8, 8, 9, 10, 13, 13, 20]\n"
     ]
    }
   ],
   "source": [
    "# sort\n",
    "\n",
    "num = [13,5,5,8,9,10,5,8,13,1,20]\n",
    "num.sort()\n",
    "print(num)"
   ]
  },
  {
   "cell_type": "code",
   "execution_count": 82,
   "metadata": {},
   "outputs": [
    {
     "data": {
      "text/plain": [
       "1"
      ]
     },
     "execution_count": 82,
     "metadata": {},
     "output_type": "execute_result"
    }
   ],
   "source": [
    "## Pop to delete elements by indexing (by defaul the last element)\n",
    "\n",
    "num.pop()\n",
    "\n",
    "num.pop(0) # drop the element placed in indexing 0. "
   ]
  },
  {
   "cell_type": "code",
   "execution_count": 83,
   "metadata": {},
   "outputs": [
    {
     "data": {
      "text/plain": [
       "[5, 5, 5, 8, 8, 9, 10, 13, 13]"
      ]
     },
     "execution_count": 83,
     "metadata": {},
     "output_type": "execute_result"
    }
   ],
   "source": [
    "num"
   ]
  },
  {
   "cell_type": "code",
   "execution_count": 84,
   "metadata": {},
   "outputs": [
    {
     "data": {
      "text/plain": [
       "[5, 5, 8, 8, 9, 10, 13, 13]"
      ]
     },
     "execution_count": 84,
     "metadata": {},
     "output_type": "execute_result"
    }
   ],
   "source": [
    "# remove especific values\n",
    "\n",
    "num.remove(5)\n",
    "num"
   ]
  },
  {
   "cell_type": "code",
   "execution_count": 85,
   "metadata": {},
   "outputs": [
    {
     "data": {
      "text/plain": [
       "[5, 1000, 8, 8, 9, 10, 13, 13]"
      ]
     },
     "execution_count": 85,
     "metadata": {},
     "output_type": "execute_result"
    }
   ],
   "source": [
    "# replace \n",
    "\n",
    "num[1] = 1000\n",
    "num"
   ]
  },
  {
   "cell_type": "code",
   "execution_count": 86,
   "metadata": {},
   "outputs": [
    {
     "name": "stdout",
     "output_type": "stream",
     "text": [
      "1000 está en la lista num: True\n"
     ]
    }
   ],
   "source": [
    "# check if an element is in a list\n",
    "print(f'1000 está en la lista num: {1000 in num}')"
   ]
  },
  {
   "cell_type": "code",
   "execution_count": 87,
   "metadata": {},
   "outputs": [
    {
     "name": "stdout",
     "output_type": "stream",
     "text": [
      "[1, 2, 3, 4]\n",
      "True\n",
      "False\n",
      "False\n",
      "True\n"
     ]
    }
   ],
   "source": [
    "# Evaluar si un objeto se encuentra en una lista\n",
    "\n",
    "mylist = [1, 2] + [3, 4]\n",
    "print(mylist)\n",
    "print(1 in mylist)\n",
    "print(13 in mylist)\n",
    "print(2 not in mylist)\n",
    "print(14 not in mylist)"
   ]
  },
  {
   "cell_type": "code",
   "execution_count": 88,
   "metadata": {},
   "outputs": [
    {
     "name": "stdout",
     "output_type": "stream",
     "text": [
      "[5, 1000, 8, 8, 9, 10, 13, 13]\n"
     ]
    },
    {
     "ename": "ValueError",
     "evalue": "5 is not in list",
     "output_type": "error",
     "traceback": [
      "\u001b[1;31m---------------------------------------------------------------------------\u001b[0m",
      "\u001b[1;31mValueError\u001b[0m                                Traceback (most recent call last)",
      "Input \u001b[1;32mIn [88]\u001b[0m, in \u001b[0;36m<cell line: 3>\u001b[1;34m()\u001b[0m\n\u001b[0;32m      1\u001b[0m \u001b[38;5;66;03m# seek element in a specific index\u001b[39;00m\n\u001b[0;32m      2\u001b[0m \u001b[38;5;28mprint\u001b[39m(num)\n\u001b[1;32m----> 3\u001b[0m \u001b[43mnum\u001b[49m\u001b[38;5;241;43m.\u001b[39;49m\u001b[43mindex\u001b[49m\u001b[43m(\u001b[49m\u001b[38;5;241;43m5\u001b[39;49m\u001b[43m,\u001b[49m\u001b[43m \u001b[49m\u001b[38;5;241;43m1\u001b[39;49m\u001b[43m)\u001b[49m\n",
      "\u001b[1;31mValueError\u001b[0m: 5 is not in list"
     ]
    }
   ],
   "source": [
    "# seek element in a specific index\n",
    "print(num)\n",
    "num.index(5, 1)  # 5 (index), 1 from index 1"
   ]
  },
  {
   "cell_type": "markdown",
   "metadata": {},
   "source": [
    "### List: append"
   ]
  },
  {
   "cell_type": "code",
   "execution_count": 89,
   "metadata": {},
   "outputs": [],
   "source": [
    "# append new elements \n",
    "\n",
    "num.append(102)\n"
   ]
  },
  {
   "cell_type": "code",
   "execution_count": 90,
   "metadata": {},
   "outputs": [
    {
     "data": {
      "text/plain": [
       "[5, 1000, 100000, 8, 8, 9, 10, 13, 13, 102]"
      ]
     },
     "execution_count": 90,
     "metadata": {},
     "output_type": "execute_result"
    }
   ],
   "source": [
    "num.insert(2,100000) # insert element to a list at a specific location \n",
    "num"
   ]
  },
  {
   "cell_type": "markdown",
   "metadata": {},
   "source": [
    "### List: extend"
   ]
  },
  {
   "cell_type": "code",
   "execution_count": 91,
   "metadata": {},
   "outputs": [
    {
     "name": "stdout",
     "output_type": "stream",
     "text": [
      "[5, 1000, 100000, 8, 8, 9, 10, 13, 13, 102, 10, 20, 30]\n"
     ]
    }
   ],
   "source": [
    "# append new list\n",
    "\n",
    "num2 = [10,20,30]\n",
    "num.extend(num2)\n",
    "print(num)"
   ]
  },
  {
   "cell_type": "code",
   "execution_count": 92,
   "metadata": {},
   "outputs": [
    {
     "name": "stdout",
     "output_type": "stream",
     "text": [
      "9\n"
     ]
    }
   ],
   "source": [
    "print(num.index(102))"
   ]
  },
  {
   "cell_type": "code",
   "execution_count": 93,
   "metadata": {
    "scrolled": true
   },
   "outputs": [
    {
     "name": "stdout",
     "output_type": "stream",
     "text": [
      "Suma: 101228 \n",
      " Minimo: 5 \n",
      " Maximo: 100000\n"
     ]
    }
   ],
   "source": [
    "print(\"Suma:\", sum(num),'\\n', \"Minimo:\", min(num), '\\n', \"Maximo:\", max(num))"
   ]
  },
  {
   "cell_type": "markdown",
   "metadata": {},
   "source": [
    "## <a id='1.5'> 1.5 Sets (conjuntos)  </a> "
   ]
  },
  {
   "cell_type": "code",
   "execution_count": 94,
   "metadata": {},
   "outputs": [
    {
     "name": "stdout",
     "output_type": "stream",
     "text": [
      "set()\n"
     ]
    }
   ],
   "source": [
    "my_set1 = set()\n",
    "print(my_set1)\n"
   ]
  },
  {
   "cell_type": "code",
   "execution_count": 95,
   "metadata": {},
   "outputs": [
    {
     "name": "stdout",
     "output_type": "stream",
     "text": [
      "<class 'set'>\n"
     ]
    },
    {
     "data": {
      "text/plain": [
       "{'Jose', 'Juan', 'Miguel'}"
      ]
     },
     "execution_count": 95,
     "metadata": {},
     "output_type": "execute_result"
    }
   ],
   "source": [
    "nombres = {'Jose', 'Miguel', 'Juan'}\n",
    "print(type(nombres))\n",
    "nombres"
   ]
  },
  {
   "cell_type": "code",
   "execution_count": 97,
   "metadata": {},
   "outputs": [
    {
     "data": {
      "text/plain": [
       "{10, 'Economia'}"
      ]
     },
     "execution_count": 97,
     "metadata": {},
     "output_type": "execute_result"
    }
   ],
   "source": [
    "my_set1.add(10)\n",
    "my_set1.add('Economia')\n",
    "my_set1"
   ]
  },
  {
   "cell_type": "code",
   "execution_count": 98,
   "metadata": {
    "colab": {
     "base_uri": "https://localhost:8080/"
    },
    "id": "OsueyynZF9GE",
    "outputId": "0106fcc0-e004-4dd4-f3bc-5e90c14a9693"
   },
   "outputs": [
    {
     "data": {
      "text/plain": [
       "{1, 2, 3, 4}"
      ]
     },
     "execution_count": 98,
     "metadata": {},
     "output_type": "execute_result"
    }
   ],
   "source": [
    "my_list = [1, 1, 1, 2, 3, 4, 4, 4, 4, 2, 2]\n",
    "set(my_list)  # drop duplicates. Unique elements"
   ]
  },
  {
   "cell_type": "code",
   "execution_count": 99,
   "metadata": {
    "colab": {
     "base_uri": "https://localhost:8080/"
    },
    "id": "FR_INqCxNKmL",
    "outputId": "1433512c-dc0e-4fb8-d50a-fa2cacd5c761"
   },
   "outputs": [
    {
     "data": {
      "text/plain": [
       "[1, 2, 3, 4]"
      ]
     },
     "execution_count": 99,
     "metadata": {},
     "output_type": "execute_result"
    }
   ],
   "source": [
    "list(set(my_list))"
   ]
  },
  {
   "cell_type": "code",
   "execution_count": 100,
   "metadata": {
    "id": "oPyC1OdHNp1m"
   },
   "outputs": [],
   "source": [
    "# # Differences\n",
    "\n",
    "A = {1, 2, 3, 4, 5}\n",
    "B = {3, 4, 5, 6, 7}"
   ]
  },
  {
   "cell_type": "code",
   "execution_count": 101,
   "metadata": {
    "colab": {
     "base_uri": "https://localhost:8080/"
    },
    "id": "wi0q_ud2Np6B",
    "outputId": "ed3ecd4b-38c5-44f4-949f-5f120ee1dd80"
   },
   "outputs": [
    {
     "name": "stdout",
     "output_type": "stream",
     "text": [
      "{1, 2}\n",
      "{6, 7}\n"
     ]
    }
   ],
   "source": [
    "print(A - B)\n",
    "print(B - A)"
   ]
  },
  {
   "cell_type": "code",
   "execution_count": 102,
   "metadata": {
    "colab": {
     "base_uri": "https://localhost:8080/"
    },
    "id": "rv3NE0M1Np8y",
    "outputId": "cfe63b54-0c2e-4dee-8544-4229784bd28e"
   },
   "outputs": [
    {
     "name": "stdout",
     "output_type": "stream",
     "text": [
      "{1, 2, 6, 7}\n"
     ]
    }
   ],
   "source": [
    "# # Symetric differences\n",
    "print(A ^ B)"
   ]
  },
  {
   "cell_type": "code",
   "execution_count": 103,
   "metadata": {
    "colab": {
     "base_uri": "https://localhost:8080/"
    },
    "id": "f9ia1I5hNp_p",
    "outputId": "2750892c-f04b-438c-b2e4-de3d526f858d"
   },
   "outputs": [
    {
     "name": "stdout",
     "output_type": "stream",
     "text": [
      "{3, 4, 5}\n"
     ]
    }
   ],
   "source": [
    "# # Intesection 2 sets\n",
    "print(A & B)"
   ]
  },
  {
   "cell_type": "code",
   "execution_count": 104,
   "metadata": {
    "id": "6IsFfIbDNqCW"
   },
   "outputs": [],
   "source": [
    "# Subsets\n",
    "A = {1, 2, 3}\n",
    "B = {1, 2, 3, 4, 5}\n",
    "C = {1, 2, 3, 10}"
   ]
  },
  {
   "cell_type": "code",
   "execution_count": 105,
   "metadata": {
    "colab": {
     "base_uri": "https://localhost:8080/"
    },
    "id": "N4I_gu5vNqE9",
    "outputId": "1462d7b7-2494-4bbf-acb5-f60764790dff"
   },
   "outputs": [
    {
     "name": "stdout",
     "output_type": "stream",
     "text": [
      "A < B: True\n",
      "C < B: False\n",
      "B > A: True\n",
      "B > C: False\n",
      "A < A: False\n",
      "A <= A: True\n",
      "A >= A: True\n"
     ]
    }
   ],
   "source": [
    "print(f'A < B: {A < B}')\n",
    "print(f'C < B: {C < B}')\n",
    "print(f'B > A: {B > A}')\n",
    "print(f'B > C: {B > C}')\n",
    "print(f'A < A: {A < A}')\n",
    "print(f'A <= A: {A <= A}')\n",
    "print(f'A >= A: {A >= A}')"
   ]
  },
  {
   "cell_type": "markdown",
   "metadata": {},
   "source": [
    "## <a id='1.6'> 1.6 Diccionario  </a> \n"
   ]
  },
  {
   "cell_type": "code",
   "execution_count": 106,
   "metadata": {},
   "outputs": [
    {
     "name": "stdout",
     "output_type": "stream",
     "text": [
      "<class 'dict'>\n",
      "<class 'dict'>\n"
     ]
    }
   ],
   "source": [
    "diccionario = {}\n",
    "otro_dicc = dict()\n",
    "print(type(diccionario))\n",
    "print(type(otro_dicc))"
   ]
  },
  {
   "cell_type": "code",
   "execution_count": 107,
   "metadata": {},
   "outputs": [
    {
     "data": {
      "text/plain": [
       "dict"
      ]
     },
     "execution_count": 107,
     "metadata": {},
     "output_type": "execute_result"
    }
   ],
   "source": [
    "Postal_code = { 'Majes': 40520 , 'Mollendo': 40701, 'Islay': 40704, 'Cotahuasi': 40801, 'Alca': 40802  }\n",
    "\n",
    "type(Postal_code)\n",
    "\n",
    "# dict de diccionario \n",
    "# 'Majes', 'Mollendo' son llaves "
   ]
  },
  {
   "cell_type": "code",
   "execution_count": 108,
   "metadata": {},
   "outputs": [
    {
     "data": {
      "text/plain": [
       "{'Majes': 40520,\n",
       " 'Mollendo': 40701,\n",
       " 'Islay': 40704,\n",
       " 'Cotahuasi': 40801,\n",
       " 'Alca': 40802}"
      ]
     },
     "execution_count": 108,
     "metadata": {},
     "output_type": "execute_result"
    }
   ],
   "source": [
    "Postal_code"
   ]
  },
  {
   "cell_type": "code",
   "execution_count": 109,
   "metadata": {},
   "outputs": [
    {
     "data": {
      "text/plain": [
       "dict_keys(['Majes', 'Mollendo', 'Islay', 'Cotahuasi', 'Alca'])"
      ]
     },
     "execution_count": 109,
     "metadata": {},
     "output_type": "execute_result"
    }
   ],
   "source": [
    "Postal_code.keys()"
   ]
  },
  {
   "cell_type": "code",
   "execution_count": 110,
   "metadata": {},
   "outputs": [
    {
     "data": {
      "text/plain": [
       "40802"
      ]
     },
     "execution_count": 110,
     "metadata": {},
     "output_type": "execute_result"
    }
   ],
   "source": [
    "# Get information from key\n",
    "Postal_code['Alca']"
   ]
  },
  {
   "cell_type": "code",
   "execution_count": 111,
   "metadata": {},
   "outputs": [
    {
     "data": {
      "text/plain": [
       "40802"
      ]
     },
     "execution_count": 111,
     "metadata": {},
     "output_type": "execute_result"
    }
   ],
   "source": [
    "# Get information from key\n",
    "Postal_code.get('Alca')"
   ]
  },
  {
   "cell_type": "code",
   "execution_count": 112,
   "metadata": {},
   "outputs": [
    {
     "data": {
      "text/plain": [
       "{'Majes': 40520, 'Mollendo': 40701, 'Cotahuasi': 40801, 'Alca': 40802}"
      ]
     },
     "execution_count": 112,
     "metadata": {},
     "output_type": "execute_result"
    }
   ],
   "source": [
    "# Drop key\n",
    "Postal_code.pop('Islay')\n",
    "Postal_code"
   ]
  },
  {
   "cell_type": "code",
   "execution_count": 113,
   "metadata": {},
   "outputs": [],
   "source": [
    "# add new elements \n",
    "\n",
    "Postal_code.update( { \"CHARCANA\" :  [1,2] } )\n",
    "\n",
    "Postal_code['ATE'] =15032\n",
    "\n",
    "#diccioanrio dentro de otro diccionario\n",
    "Postal_code.update( {\"LOMAS\": {\"UBIGEO\": 40311, \"Poverty Rate\" : \"18.2%\", \"Population\" : \"20 mil\"}})\n"
   ]
  },
  {
   "cell_type": "code",
   "execution_count": 114,
   "metadata": {},
   "outputs": [
    {
     "data": {
      "text/plain": [
       "{'Majes': 40520,\n",
       " 'Mollendo': 40701,\n",
       " 'Cotahuasi': 40801,\n",
       " 'Alca': 40802,\n",
       " 'CHARCANA': [1, 2],\n",
       " 'ATE': 15032,\n",
       " 'LOMAS': {'UBIGEO': 40311, 'Poverty Rate': '18.2%', 'Population': '20 mil'}}"
      ]
     },
     "execution_count": 114,
     "metadata": {},
     "output_type": "execute_result"
    }
   ],
   "source": [
    "Postal_code"
   ]
  },
  {
   "cell_type": "code",
   "execution_count": 115,
   "metadata": {},
   "outputs": [
    {
     "data": {
      "text/plain": [
       "'18.2%'"
      ]
     },
     "execution_count": 115,
     "metadata": {},
     "output_type": "execute_result"
    }
   ],
   "source": [
    "Postal_code.get('LOMAS').get('Poverty Rate')"
   ]
  },
  {
   "cell_type": "code",
   "execution_count": 116,
   "metadata": {},
   "outputs": [
    {
     "data": {
      "text/plain": [
       "'18.2%'"
      ]
     },
     "execution_count": 116,
     "metadata": {},
     "output_type": "execute_result"
    }
   ],
   "source": [
    "Postal_code['LOMAS']['Poverty Rate'] # forna mas usada "
   ]
  },
  {
   "cell_type": "code",
   "execution_count": 117,
   "metadata": {},
   "outputs": [
    {
     "data": {
      "text/plain": [
       "{'UBIGEO': 40311, 'Poverty Rate': '18.2%', 'Population': '20 mil'}"
      ]
     },
     "execution_count": 117,
     "metadata": {},
     "output_type": "execute_result"
    }
   ],
   "source": [
    "Postal_code['LOMAS']\n"
   ]
  },
  {
   "cell_type": "code",
   "execution_count": 118,
   "metadata": {},
   "outputs": [],
   "source": [
    "# keys\n",
    "cities = ['Fray Martin','Santa Rosa de Puquio','Cuchicorral','Santiago de Punchauca','La Cruz (11 Amigos)','Cerro Cañon','Cabaña Suche','San Lorenzo','Jose Carlos Mariategui','Pascal','La Esperanza','Fundo Pancha Paula','Olfa','Rio Seco','Paraiso','El Rosario','Cerro Puquio','La Campana','Las Animas','Vetancio','Roma Alta','San Jose','San Pedro de Carabayllo','Huacoy','Fundo Pampa Libre','Ex Fundo Santa Ines','Reposo','Carmelito','Santa Elena','Don Luis','Santa Ines Parcela','Asociacion Santa Ines','Roma Baja','Residencial Santa Lucia','San Francisco','Santa Margarita - Molinos','Sipan Peru','Fundo Cuadros','Bello Horizonte','El Hueco','Ex Fundo Mariategui','Naranjito','Vista Hermosa','El Sabroso de Jose Carlos Mariategui','Granja Carabayllo','Agropecuario Valle el Chillon','Camino Real','Copacabana','El Trebol','Tablada la Virgen','San Fernando de Carabayllo','San Fernando de Copacabana','La Manzana','Chacra Grande','Torres de Copacabana','San Pedro de Carabayllo','San Lorenzo','Chaclacayo','Chorrillos','Cieneguilla','Lindero','Pichicato','San Isidro','San Vicente','Piedra Liza','Santa Rosa de Chontay (Chontay)','La Libertad','El Agustino','Independencia','Jesus Maria','La Molina','La Victoria','Lince','Las Palmeras','Chosica','Lurin','Los Almacigos','Rinconada del Puruhuay','Fundo Santa Genoveva','Los Maderos','Casco Viejo','Vista Alegre','Buena Vista Alta','Lomas Pucara','Fundo la Querencia','Magdalena del Mar','Pueblo Libre','Miraflores','Pachacamac','Puente Manchay','Tambo Inga','Pampa Flores','Manchay Alto Lote B','Invasion Cementerio','Manchay Bajo','Santa Rosa de Mal Paso','Cardal','Jatosisa','Tomina','Pucusana','Honda','Quipa','Los Pelicanos','Playa Puerto Bello','Ñaves','Granja Santa Elena','Alvatroz II','Poseidon - Lobo Varado','Playa Minka Mar','Playa Acantilado','Puente Piedra','Punta Hermosa','Capilla Lucumo','Cucuya','Pampapacta','Avicola San Cirilo de Loma Negra - 03','Avicola San Cirilo de Loma Negra - 02','Avicola San Cirilo de Loma Negra - 01','Pampa Mamay','Cerro Botija','Agricultores y Ganaderos','Pampa Malanche Avicola Puma','Punta Negra','Chancheria','Rimac','San Bartolo','Plantel 41','Granja 4','Granja 5','Granja 07','Granja 44','Granja 47','Santa Maria I','Las Torres Santa Fe','San Francisco de Borja','San Isidro','San Juan de Lurigancho','Ciudad de Dios','San Luis','Barrio Obrero Industrial','San Miguel','Santa Anita - los Ficus','Santa Maria del Mar','Don Bruno','Santa Rosa','Santiago de Surco','Surquillo','Villa el Salvador','Villa Maria del Triunfo', 'Pueblo libre']\n",
    "# values\n",
    "postal_code1 = [15001,15003,15004,15006,15018,15019,15046,15072,15079,15081,15082,15083,15088,15123,15004,15011,15012,15019,15022,15023,15026,15476,15479,15483,15487,15491,15494,15498,15047,15049,15063,15082,15083,15121,15122,15313,15316,15318,15319,15320,15321,15324,15320,15320,15320,15320,15320,15320,15121,15320,15320,15121,15320,15320,15121,15121,15122,15122,15121,15121,15121,15320,15320,15320,15320,15320,15320,15121,15121,15121,15320,15121,15319,15121,15121,15121,15320,15320,15121,15121,15121,15121,15320,15320,15320,15122,15122,15122,15122,15122,15122,15122,15122,15121,15121,15122,15122,15121,15121,15122,15122,15121,15122,15122,15122,15472,15476,15054,15056,15057,15058,15063,15064,15066,15067,15593,15594,15593,15593,15593,15593,15593,15593,15593,15311,15312,15313,15314,15316,15324,15326,15327,15328,15332,15003,15004,15006,15007,15008,15009,15011,15018,15022,15311,15328,15331,15332,15333,15046, 15001]"
   ]
  },
  {
   "cell_type": "code",
   "execution_count": 119,
   "metadata": {},
   "outputs": [],
   "source": [
    "# Return a dictionarie\n",
    "ct_pc = dict( zip( cities , postal_code1) )"
   ]
  },
  {
   "cell_type": "code",
   "execution_count": 120,
   "metadata": {
    "scrolled": true
   },
   "outputs": [
    {
     "data": {
      "text/plain": [
       "{'Fray Martin': 15001,\n",
       " 'Santa Rosa de Puquio': 15003,\n",
       " 'Cuchicorral': 15004,\n",
       " 'Santiago de Punchauca': 15006,\n",
       " 'La Cruz (11 Amigos)': 15018,\n",
       " 'Cerro Cañon': 15019,\n",
       " 'Cabaña Suche': 15046,\n",
       " 'San Lorenzo': 15122,\n",
       " 'Jose Carlos Mariategui': 15079,\n",
       " 'Pascal': 15081,\n",
       " 'La Esperanza': 15082,\n",
       " 'Fundo Pancha Paula': 15083,\n",
       " 'Olfa': 15088,\n",
       " 'Rio Seco': 15123,\n",
       " 'Paraiso': 15004,\n",
       " 'El Rosario': 15011,\n",
       " 'Cerro Puquio': 15012,\n",
       " 'La Campana': 15019,\n",
       " 'Las Animas': 15022,\n",
       " 'Vetancio': 15023,\n",
       " 'Roma Alta': 15026,\n",
       " 'San Jose': 15476,\n",
       " 'San Pedro de Carabayllo': 15121,\n",
       " 'Huacoy': 15483,\n",
       " 'Fundo Pampa Libre': 15487,\n",
       " 'Ex Fundo Santa Ines': 15491,\n",
       " 'Reposo': 15494,\n",
       " 'Carmelito': 15498,\n",
       " 'Santa Elena': 15047,\n",
       " 'Don Luis': 15049,\n",
       " 'Santa Ines Parcela': 15063,\n",
       " 'Asociacion Santa Ines': 15082,\n",
       " 'Roma Baja': 15083,\n",
       " 'Residencial Santa Lucia': 15121,\n",
       " 'San Francisco': 15122,\n",
       " 'Santa Margarita - Molinos': 15313,\n",
       " 'Sipan Peru': 15316,\n",
       " 'Fundo Cuadros': 15318,\n",
       " 'Bello Horizonte': 15319,\n",
       " 'El Hueco': 15320,\n",
       " 'Ex Fundo Mariategui': 15321,\n",
       " 'Naranjito': 15324,\n",
       " 'Vista Hermosa': 15320,\n",
       " 'El Sabroso de Jose Carlos Mariategui': 15320,\n",
       " 'Granja Carabayllo': 15320,\n",
       " 'Agropecuario Valle el Chillon': 15320,\n",
       " 'Camino Real': 15320,\n",
       " 'Copacabana': 15320,\n",
       " 'El Trebol': 15121,\n",
       " 'Tablada la Virgen': 15320,\n",
       " 'San Fernando de Carabayllo': 15320,\n",
       " 'San Fernando de Copacabana': 15121,\n",
       " 'La Manzana': 15320,\n",
       " 'Chacra Grande': 15320,\n",
       " 'Torres de Copacabana': 15121,\n",
       " 'Chaclacayo': 15122,\n",
       " 'Chorrillos': 15121,\n",
       " 'Cieneguilla': 15121,\n",
       " 'Lindero': 15121,\n",
       " 'Pichicato': 15320,\n",
       " 'San Isidro': 15004,\n",
       " 'San Vicente': 15320,\n",
       " 'Piedra Liza': 15320,\n",
       " 'Santa Rosa de Chontay (Chontay)': 15320,\n",
       " 'La Libertad': 15320,\n",
       " 'El Agustino': 15121,\n",
       " 'Independencia': 15121,\n",
       " 'Jesus Maria': 15121,\n",
       " 'La Molina': 15320,\n",
       " 'La Victoria': 15121,\n",
       " 'Lince': 15319,\n",
       " 'Las Palmeras': 15121,\n",
       " 'Chosica': 15121,\n",
       " 'Lurin': 15121,\n",
       " 'Los Almacigos': 15320,\n",
       " 'Rinconada del Puruhuay': 15320,\n",
       " 'Fundo Santa Genoveva': 15121,\n",
       " 'Los Maderos': 15121,\n",
       " 'Casco Viejo': 15121,\n",
       " 'Vista Alegre': 15121,\n",
       " 'Buena Vista Alta': 15320,\n",
       " 'Lomas Pucara': 15320,\n",
       " 'Fundo la Querencia': 15320,\n",
       " 'Magdalena del Mar': 15122,\n",
       " 'Pueblo Libre': 15122,\n",
       " 'Miraflores': 15122,\n",
       " 'Pachacamac': 15122,\n",
       " 'Puente Manchay': 15122,\n",
       " 'Tambo Inga': 15122,\n",
       " 'Pampa Flores': 15122,\n",
       " 'Manchay Alto Lote B': 15122,\n",
       " 'Invasion Cementerio': 15121,\n",
       " 'Manchay Bajo': 15121,\n",
       " 'Santa Rosa de Mal Paso': 15122,\n",
       " 'Cardal': 15122,\n",
       " 'Jatosisa': 15121,\n",
       " 'Tomina': 15121,\n",
       " 'Pucusana': 15122,\n",
       " 'Honda': 15122,\n",
       " 'Quipa': 15121,\n",
       " 'Los Pelicanos': 15122,\n",
       " 'Playa Puerto Bello': 15122,\n",
       " 'Ñaves': 15122,\n",
       " 'Granja Santa Elena': 15472,\n",
       " 'Alvatroz II': 15476,\n",
       " 'Poseidon - Lobo Varado': 15054,\n",
       " 'Playa Minka Mar': 15056,\n",
       " 'Playa Acantilado': 15057,\n",
       " 'Puente Piedra': 15058,\n",
       " 'Punta Hermosa': 15063,\n",
       " 'Capilla Lucumo': 15064,\n",
       " 'Cucuya': 15066,\n",
       " 'Pampapacta': 15067,\n",
       " 'Avicola San Cirilo de Loma Negra - 03': 15593,\n",
       " 'Avicola San Cirilo de Loma Negra - 02': 15594,\n",
       " 'Avicola San Cirilo de Loma Negra - 01': 15593,\n",
       " 'Pampa Mamay': 15593,\n",
       " 'Cerro Botija': 15593,\n",
       " 'Agricultores y Ganaderos': 15593,\n",
       " 'Pampa Malanche Avicola Puma': 15593,\n",
       " 'Punta Negra': 15593,\n",
       " 'Chancheria': 15593,\n",
       " 'Rimac': 15311,\n",
       " 'San Bartolo': 15312,\n",
       " 'Plantel 41': 15313,\n",
       " 'Granja 4': 15314,\n",
       " 'Granja 5': 15316,\n",
       " 'Granja 07': 15324,\n",
       " 'Granja 44': 15326,\n",
       " 'Granja 47': 15327,\n",
       " 'Santa Maria I': 15328,\n",
       " 'Las Torres Santa Fe': 15332,\n",
       " 'San Francisco de Borja': 15003,\n",
       " 'San Juan de Lurigancho': 15006,\n",
       " 'Ciudad de Dios': 15007,\n",
       " 'San Luis': 15008,\n",
       " 'Barrio Obrero Industrial': 15009,\n",
       " 'San Miguel': 15011,\n",
       " 'Santa Anita - los Ficus': 15018,\n",
       " 'Santa Maria del Mar': 15022,\n",
       " 'Don Bruno': 15311,\n",
       " 'Santa Rosa': 15328,\n",
       " 'Santiago de Surco': 15331,\n",
       " 'Surquillo': 15332,\n",
       " 'Villa el Salvador': 15333,\n",
       " 'Villa Maria del Triunfo': 15046,\n",
       " 'Pueblo libre': 15001}"
      ]
     },
     "execution_count": 120,
     "metadata": {},
     "output_type": "execute_result"
    }
   ],
   "source": [
    "ct_pc"
   ]
  },
  {
   "cell_type": "code",
   "execution_count": 121,
   "metadata": {},
   "outputs": [
    {
     "name": "stdout",
     "output_type": "stream",
     "text": [
      "Fray Martin - 15001\n",
      "Santa Rosa de Puquio - 15003\n",
      "Cuchicorral - 15004\n",
      "Santiago de Punchauca - 15006\n",
      "La Cruz (11 Amigos) - 15018\n",
      "Cerro Cañon - 15019\n",
      "Cabaña Suche - 15046\n",
      "San Lorenzo - 15122\n",
      "Jose Carlos Mariategui - 15079\n",
      "Pascal - 15081\n",
      "La Esperanza - 15082\n",
      "Fundo Pancha Paula - 15083\n",
      "Olfa - 15088\n",
      "Rio Seco - 15123\n",
      "Paraiso - 15004\n",
      "El Rosario - 15011\n",
      "Cerro Puquio - 15012\n",
      "La Campana - 15019\n",
      "Las Animas - 15022\n",
      "Vetancio - 15023\n",
      "Roma Alta - 15026\n",
      "San Jose - 15476\n",
      "San Pedro de Carabayllo - 15121\n",
      "Huacoy - 15483\n",
      "Fundo Pampa Libre - 15487\n",
      "Ex Fundo Santa Ines - 15491\n",
      "Reposo - 15494\n",
      "Carmelito - 15498\n",
      "Santa Elena - 15047\n",
      "Don Luis - 15049\n",
      "Santa Ines Parcela - 15063\n",
      "Asociacion Santa Ines - 15082\n",
      "Roma Baja - 15083\n",
      "Residencial Santa Lucia - 15121\n",
      "San Francisco - 15122\n",
      "Santa Margarita - Molinos - 15313\n",
      "Sipan Peru - 15316\n",
      "Fundo Cuadros - 15318\n",
      "Bello Horizonte - 15319\n",
      "El Hueco - 15320\n",
      "Ex Fundo Mariategui - 15321\n",
      "Naranjito - 15324\n",
      "Vista Hermosa - 15320\n",
      "El Sabroso de Jose Carlos Mariategui - 15320\n",
      "Granja Carabayllo - 15320\n",
      "Agropecuario Valle el Chillon - 15320\n",
      "Camino Real - 15320\n",
      "Copacabana - 15320\n",
      "El Trebol - 15121\n",
      "Tablada la Virgen - 15320\n",
      "San Fernando de Carabayllo - 15320\n",
      "San Fernando de Copacabana - 15121\n",
      "La Manzana - 15320\n",
      "Chacra Grande - 15320\n",
      "Torres de Copacabana - 15121\n",
      "Chaclacayo - 15122\n",
      "Chorrillos - 15121\n",
      "Cieneguilla - 15121\n",
      "Lindero - 15121\n",
      "Pichicato - 15320\n",
      "San Isidro - 15004\n",
      "San Vicente - 15320\n",
      "Piedra Liza - 15320\n",
      "Santa Rosa de Chontay (Chontay) - 15320\n",
      "La Libertad - 15320\n",
      "El Agustino - 15121\n",
      "Independencia - 15121\n",
      "Jesus Maria - 15121\n",
      "La Molina - 15320\n",
      "La Victoria - 15121\n",
      "Lince - 15319\n",
      "Las Palmeras - 15121\n",
      "Chosica - 15121\n",
      "Lurin - 15121\n",
      "Los Almacigos - 15320\n",
      "Rinconada del Puruhuay - 15320\n",
      "Fundo Santa Genoveva - 15121\n",
      "Los Maderos - 15121\n",
      "Casco Viejo - 15121\n",
      "Vista Alegre - 15121\n",
      "Buena Vista Alta - 15320\n",
      "Lomas Pucara - 15320\n",
      "Fundo la Querencia - 15320\n",
      "Magdalena del Mar - 15122\n",
      "Pueblo Libre - 15122\n",
      "Miraflores - 15122\n",
      "Pachacamac - 15122\n",
      "Puente Manchay - 15122\n",
      "Tambo Inga - 15122\n",
      "Pampa Flores - 15122\n",
      "Manchay Alto Lote B - 15122\n",
      "Invasion Cementerio - 15121\n",
      "Manchay Bajo - 15121\n",
      "Santa Rosa de Mal Paso - 15122\n",
      "Cardal - 15122\n",
      "Jatosisa - 15121\n",
      "Tomina - 15121\n",
      "Pucusana - 15122\n",
      "Honda - 15122\n",
      "Quipa - 15121\n",
      "Los Pelicanos - 15122\n",
      "Playa Puerto Bello - 15122\n",
      "Ñaves - 15122\n",
      "Granja Santa Elena - 15472\n",
      "Alvatroz II - 15476\n",
      "Poseidon - Lobo Varado - 15054\n",
      "Playa Minka Mar - 15056\n",
      "Playa Acantilado - 15057\n",
      "Puente Piedra - 15058\n",
      "Punta Hermosa - 15063\n",
      "Capilla Lucumo - 15064\n",
      "Cucuya - 15066\n",
      "Pampapacta - 15067\n",
      "Avicola San Cirilo de Loma Negra - 03 - 15593\n",
      "Avicola San Cirilo de Loma Negra - 02 - 15594\n",
      "Avicola San Cirilo de Loma Negra - 01 - 15593\n",
      "Pampa Mamay - 15593\n",
      "Cerro Botija - 15593\n",
      "Agricultores y Ganaderos - 15593\n",
      "Pampa Malanche Avicola Puma - 15593\n",
      "Punta Negra - 15593\n",
      "Chancheria - 15593\n",
      "Rimac - 15311\n",
      "San Bartolo - 15312\n",
      "Plantel 41 - 15313\n",
      "Granja 4 - 15314\n",
      "Granja 5 - 15316\n",
      "Granja 07 - 15324\n",
      "Granja 44 - 15326\n",
      "Granja 47 - 15327\n",
      "Santa Maria I - 15328\n",
      "Las Torres Santa Fe - 15332\n",
      "San Francisco de Borja - 15003\n",
      "San Juan de Lurigancho - 15006\n",
      "Ciudad de Dios - 15007\n",
      "San Luis - 15008\n",
      "Barrio Obrero Industrial - 15009\n",
      "San Miguel - 15011\n",
      "Santa Anita - los Ficus - 15018\n",
      "Santa Maria del Mar - 15022\n",
      "Don Bruno - 15311\n",
      "Santa Rosa - 15328\n",
      "Santiago de Surco - 15331\n",
      "Surquillo - 15332\n",
      "Villa el Salvador - 15333\n",
      "Villa Maria del Triunfo - 15046\n",
      "Pueblo libre - 15001\n"
     ]
    }
   ],
   "source": [
    "# Loop and dict \n",
    "\n",
    "for key,value in ct_pc.items():\n",
    "    print(key, '-',value)"
   ]
  },
  {
   "cell_type": "code",
   "execution_count": 122,
   "metadata": {},
   "outputs": [
    {
     "name": "stdout",
     "output_type": "stream",
     "text": [
      "Fray Martin\n",
      "Santa Rosa de Puquio\n",
      "Cuchicorral\n",
      "Santiago de Punchauca\n",
      "La Cruz (11 Amigos)\n",
      "Cerro Cañon\n",
      "Cabaña Suche\n",
      "San Lorenzo\n",
      "Jose Carlos Mariategui\n",
      "Pascal\n",
      "La Esperanza\n",
      "Fundo Pancha Paula\n",
      "Olfa\n",
      "Rio Seco\n",
      "Paraiso\n",
      "El Rosario\n",
      "Cerro Puquio\n",
      "La Campana\n",
      "Las Animas\n",
      "Vetancio\n",
      "Roma Alta\n",
      "San Jose\n",
      "San Pedro de Carabayllo\n",
      "Huacoy\n",
      "Fundo Pampa Libre\n",
      "Ex Fundo Santa Ines\n",
      "Reposo\n",
      "Carmelito\n",
      "Santa Elena\n",
      "Don Luis\n",
      "Santa Ines Parcela\n",
      "Asociacion Santa Ines\n",
      "Roma Baja\n",
      "Residencial Santa Lucia\n",
      "San Francisco\n",
      "Santa Margarita - Molinos\n",
      "Sipan Peru\n",
      "Fundo Cuadros\n",
      "Bello Horizonte\n",
      "El Hueco\n",
      "Ex Fundo Mariategui\n",
      "Naranjito\n",
      "Vista Hermosa\n",
      "El Sabroso de Jose Carlos Mariategui\n",
      "Granja Carabayllo\n",
      "Agropecuario Valle el Chillon\n",
      "Camino Real\n",
      "Copacabana\n",
      "El Trebol\n",
      "Tablada la Virgen\n",
      "San Fernando de Carabayllo\n",
      "San Fernando de Copacabana\n",
      "La Manzana\n",
      "Chacra Grande\n",
      "Torres de Copacabana\n",
      "Chaclacayo\n",
      "Chorrillos\n",
      "Cieneguilla\n",
      "Lindero\n",
      "Pichicato\n",
      "San Isidro\n",
      "San Vicente\n",
      "Piedra Liza\n",
      "Santa Rosa de Chontay (Chontay)\n",
      "La Libertad\n",
      "El Agustino\n",
      "Independencia\n",
      "Jesus Maria\n",
      "La Molina\n",
      "La Victoria\n",
      "Lince\n",
      "Las Palmeras\n",
      "Chosica\n",
      "Lurin\n",
      "Los Almacigos\n",
      "Rinconada del Puruhuay\n",
      "Fundo Santa Genoveva\n",
      "Los Maderos\n",
      "Casco Viejo\n",
      "Vista Alegre\n",
      "Buena Vista Alta\n",
      "Lomas Pucara\n",
      "Fundo la Querencia\n",
      "Magdalena del Mar\n",
      "Pueblo Libre\n",
      "Miraflores\n",
      "Pachacamac\n",
      "Puente Manchay\n",
      "Tambo Inga\n",
      "Pampa Flores\n",
      "Manchay Alto Lote B\n",
      "Invasion Cementerio\n",
      "Manchay Bajo\n",
      "Santa Rosa de Mal Paso\n",
      "Cardal\n",
      "Jatosisa\n",
      "Tomina\n",
      "Pucusana\n",
      "Honda\n",
      "Quipa\n",
      "Los Pelicanos\n",
      "Playa Puerto Bello\n",
      "Ñaves\n",
      "Granja Santa Elena\n",
      "Alvatroz II\n",
      "Poseidon - Lobo Varado\n",
      "Playa Minka Mar\n",
      "Playa Acantilado\n",
      "Puente Piedra\n",
      "Punta Hermosa\n",
      "Capilla Lucumo\n",
      "Cucuya\n",
      "Pampapacta\n",
      "Avicola San Cirilo de Loma Negra - 03\n",
      "Avicola San Cirilo de Loma Negra - 02\n",
      "Avicola San Cirilo de Loma Negra - 01\n",
      "Pampa Mamay\n",
      "Cerro Botija\n",
      "Agricultores y Ganaderos\n",
      "Pampa Malanche Avicola Puma\n",
      "Punta Negra\n",
      "Chancheria\n",
      "Rimac\n",
      "San Bartolo\n",
      "Plantel 41\n",
      "Granja 4\n",
      "Granja 5\n",
      "Granja 07\n",
      "Granja 44\n",
      "Granja 47\n",
      "Santa Maria I\n",
      "Las Torres Santa Fe\n",
      "San Francisco de Borja\n",
      "San Juan de Lurigancho\n",
      "Ciudad de Dios\n",
      "San Luis\n",
      "Barrio Obrero Industrial\n",
      "San Miguel\n",
      "Santa Anita - los Ficus\n",
      "Santa Maria del Mar\n",
      "Don Bruno\n",
      "Santa Rosa\n",
      "Santiago de Surco\n",
      "Surquillo\n",
      "Villa el Salvador\n",
      "Villa Maria del Triunfo\n",
      "Pueblo libre\n"
     ]
    }
   ],
   "source": [
    "# # Keys\n",
    "\n",
    "for ciudad in ct_pc.keys():\n",
    "    print(ciudad)"
   ]
  },
  {
   "cell_type": "code",
   "execution_count": 123,
   "metadata": {},
   "outputs": [
    {
     "name": "stdout",
     "output_type": "stream",
     "text": [
      "15001\n",
      "15003\n",
      "15004\n",
      "15006\n",
      "15018\n",
      "15019\n",
      "15046\n",
      "15122\n",
      "15079\n",
      "15081\n",
      "15082\n",
      "15083\n",
      "15088\n",
      "15123\n",
      "15004\n",
      "15011\n",
      "15012\n",
      "15019\n",
      "15022\n",
      "15023\n",
      "15026\n",
      "15476\n",
      "15121\n",
      "15483\n",
      "15487\n",
      "15491\n",
      "15494\n",
      "15498\n",
      "15047\n",
      "15049\n",
      "15063\n",
      "15082\n",
      "15083\n",
      "15121\n",
      "15122\n",
      "15313\n",
      "15316\n",
      "15318\n",
      "15319\n",
      "15320\n",
      "15321\n",
      "15324\n",
      "15320\n",
      "15320\n",
      "15320\n",
      "15320\n",
      "15320\n",
      "15320\n",
      "15121\n",
      "15320\n",
      "15320\n",
      "15121\n",
      "15320\n",
      "15320\n",
      "15121\n",
      "15122\n",
      "15121\n",
      "15121\n",
      "15121\n",
      "15320\n",
      "15004\n",
      "15320\n",
      "15320\n",
      "15320\n",
      "15320\n",
      "15121\n",
      "15121\n",
      "15121\n",
      "15320\n",
      "15121\n",
      "15319\n",
      "15121\n",
      "15121\n",
      "15121\n",
      "15320\n",
      "15320\n",
      "15121\n",
      "15121\n",
      "15121\n",
      "15121\n",
      "15320\n",
      "15320\n",
      "15320\n",
      "15122\n",
      "15122\n",
      "15122\n",
      "15122\n",
      "15122\n",
      "15122\n",
      "15122\n",
      "15122\n",
      "15121\n",
      "15121\n",
      "15122\n",
      "15122\n",
      "15121\n",
      "15121\n",
      "15122\n",
      "15122\n",
      "15121\n",
      "15122\n",
      "15122\n",
      "15122\n",
      "15472\n",
      "15476\n",
      "15054\n",
      "15056\n",
      "15057\n",
      "15058\n",
      "15063\n",
      "15064\n",
      "15066\n",
      "15067\n",
      "15593\n",
      "15594\n",
      "15593\n",
      "15593\n",
      "15593\n",
      "15593\n",
      "15593\n",
      "15593\n",
      "15593\n",
      "15311\n",
      "15312\n",
      "15313\n",
      "15314\n",
      "15316\n",
      "15324\n",
      "15326\n",
      "15327\n",
      "15328\n",
      "15332\n",
      "15003\n",
      "15006\n",
      "15007\n",
      "15008\n",
      "15009\n",
      "15011\n",
      "15018\n",
      "15022\n",
      "15311\n",
      "15328\n",
      "15331\n",
      "15332\n",
      "15333\n",
      "15046\n",
      "15001\n"
     ]
    }
   ],
   "source": [
    "# # Values\n",
    "for codigo in ct_pc.values():\n",
    "    print(codigo)"
   ]
  },
  {
   "cell_type": "markdown",
   "metadata": {},
   "source": [
    "## <a id='1.7'> 1.7 Arrays and Matrix  </a> \n"
   ]
  },
  {
   "cell_type": "code",
   "execution_count": 124,
   "metadata": {},
   "outputs": [
    {
     "data": {
      "text/plain": [
       "array([1, 2, 3, 4, 5])"
      ]
     },
     "execution_count": 124,
     "metadata": {},
     "output_type": "execute_result"
    }
   ],
   "source": [
    "import numpy as np\n",
    "\n",
    "np.array( [1, 2, 3, 4, 5] )\n",
    "\n",
    "# A library is a collection of modules or a single module. Libraries are the tools we will use to make our program."
   ]
  },
  {
   "cell_type": "code",
   "execution_count": 125,
   "metadata": {},
   "outputs": [
    {
     "name": "stdout",
     "output_type": "stream",
     "text": [
      "[1 2 3 4 5]\n"
     ]
    }
   ],
   "source": [
    "# 1D array (vector)\n",
    "a = np.array( [1, 2, 3, 4, 5] )\n",
    "\n",
    "\n",
    "print(a)"
   ]
  },
  {
   "cell_type": "code",
   "execution_count": 126,
   "metadata": {},
   "outputs": [
    {
     "data": {
      "text/plain": [
       "numpy.ndarray"
      ]
     },
     "execution_count": 126,
     "metadata": {},
     "output_type": "execute_result"
    }
   ],
   "source": [
    "type(a)"
   ]
  },
  {
   "cell_type": "code",
   "execution_count": 127,
   "metadata": {
    "scrolled": true
   },
   "outputs": [
    {
     "data": {
      "text/plain": [
       "15"
      ]
     },
     "execution_count": 127,
     "metadata": {},
     "output_type": "execute_result"
    }
   ],
   "source": [
    "np.mean(a)\n",
    "np.sum(a)"
   ]
  },
  {
   "cell_type": "code",
   "execution_count": 128,
   "metadata": {},
   "outputs": [
    {
     "data": {
      "text/plain": [
       "1.4142135623730951"
      ]
     },
     "execution_count": 128,
     "metadata": {},
     "output_type": "execute_result"
    }
   ],
   "source": [
    "np.std(a)\n",
    "\n",
    "# standar error adjuted fo finte sample"
   ]
  },
  {
   "cell_type": "markdown",
   "metadata": {},
   "source": [
    "Standar deviation in Python by default\n",
    "\n",
    "\\begin{equation}\n",
    " sd(x) = \\sqrt{\\frac{\\sum(x_i-\\bar{x})^2}{N-1}}\n",
    "\\end{equation}"
   ]
  },
  {
   "cell_type": "code",
   "execution_count": 129,
   "metadata": {},
   "outputs": [
    {
     "data": {
      "text/plain": [
       "1.5811388300841898"
      ]
     },
     "execution_count": 129,
     "metadata": {},
     "output_type": "execute_result"
    }
   ],
   "source": [
    "np.std(a,ddof=1)\n",
    "\n",
    "# unbias standar error"
   ]
  },
  {
   "cell_type": "markdown",
   "metadata": {},
   "source": [
    "Standar deviation in Python by default\n",
    "\n",
    "\\begin{equation}\n",
    " sd(x) = \\sqrt{\\frac{\\sum(x_i-\\bar{x})^2}{N}}\n",
    "\\end{equation}"
   ]
  },
  {
   "cell_type": "code",
   "execution_count": 130,
   "metadata": {},
   "outputs": [
    {
     "name": "stdout",
     "output_type": "stream",
     "text": [
      "[[1 2 3]\n",
      " [4 5 6]]\n"
     ]
    }
   ],
   "source": [
    "# 2D array (matrix 2x2)\n",
    "M = np.array( [ [1, 2, 3], [4, 5, 6] ] )\n",
    "\n",
    "print(M)"
   ]
  },
  {
   "cell_type": "code",
   "execution_count": 131,
   "metadata": {},
   "outputs": [
    {
     "data": {
      "text/plain": [
       "(2, 3)"
      ]
     },
     "execution_count": 131,
     "metadata": {},
     "output_type": "execute_result"
    }
   ],
   "source": [
    "# dimensiones\n",
    "\n",
    "M.shape # numero de filas "
   ]
  },
  {
   "cell_type": "code",
   "execution_count": 132,
   "metadata": {},
   "outputs": [
    {
     "name": "stdout",
     "output_type": "stream",
     "text": [
      "Rows: 2 \n",
      " Columns:  3\n"
     ]
    }
   ],
   "source": [
    "# shape()\n",
    "\n",
    "print(\"Rows:\",M.shape[0],\"\\n\", \"Columns: \", M.shape[1])\n"
   ]
  },
  {
   "cell_type": "markdown",
   "metadata": {},
   "source": [
    "### Range(): consecutive numbers"
   ]
  },
  {
   "cell_type": "code",
   "execution_count": 133,
   "metadata": {},
   "outputs": [
    {
     "name": "stdout",
     "output_type": "stream",
     "text": [
      "[ 1  2  3  4  5  6  7  8  9 10]\n"
     ]
    },
    {
     "data": {
      "text/plain": [
       "[0, 1, 2, 3, 4, 5, 6, 7, 8, 9, 10]"
      ]
     },
     "execution_count": 133,
     "metadata": {},
     "output_type": "execute_result"
    }
   ],
   "source": [
    "# deafult one by one \n",
    "\n",
    "y = np.arange( 1, 11)\n",
    "print(y)\n",
    "\n",
    "list(range(11))\n"
   ]
  },
  {
   "cell_type": "code",
   "execution_count": 134,
   "metadata": {},
   "outputs": [
    {
     "name": "stdout",
     "output_type": "stream",
     "text": [
      "[5, 6, 7, 8]\n"
     ]
    },
    {
     "data": {
      "text/plain": [
       "[1, 3, 5, 7]"
      ]
     },
     "execution_count": 134,
     "metadata": {},
     "output_type": "execute_result"
    }
   ],
   "source": [
    "# range to list \n",
    "\n",
    "print( list(range(5,9)) )\n",
    "list(range(1,9,2))\n"
   ]
  },
  {
   "cell_type": "code",
   "execution_count": 135,
   "metadata": {},
   "outputs": [
    {
     "data": {
      "text/plain": [
       "[0,\n",
       " 1,\n",
       " 2,\n",
       " 3,\n",
       " 4,\n",
       " 5,\n",
       " 6,\n",
       " 7,\n",
       " 8,\n",
       " 9,\n",
       " 10,\n",
       " 11,\n",
       " 12,\n",
       " 13,\n",
       " 14,\n",
       " 15,\n",
       " 16,\n",
       " 17,\n",
       " 18,\n",
       " 19,\n",
       " 20,\n",
       " 21,\n",
       " 22,\n",
       " 23]"
      ]
     },
     "execution_count": 135,
     "metadata": {},
     "output_type": "execute_result"
    }
   ],
   "source": [
    "# arange to list \n",
    "\n",
    "np.arange( 0 , 24 ).tolist()"
   ]
  },
  {
   "cell_type": "markdown",
   "metadata": {},
   "source": [
    "### List comprehension\n",
    "\n"
   ]
  },
  {
   "cell_type": "code",
   "execution_count": 136,
   "metadata": {},
   "outputs": [
    {
     "data": {
      "text/plain": [
       "[0, 1, 2, 3, 4, 5, 6, 7, 8]"
      ]
     },
     "execution_count": 136,
     "metadata": {},
     "output_type": "execute_result"
    }
   ],
   "source": [
    "[i for i in range(9)]"
   ]
  },
  {
   "cell_type": "code",
   "execution_count": 137,
   "metadata": {},
   "outputs": [
    {
     "data": {
      "text/plain": [
       "['0', '1', '2', '3', '4', '5', '6', '7', '8']"
      ]
     },
     "execution_count": 137,
     "metadata": {},
     "output_type": "execute_result"
    }
   ],
   "source": [
    "[str(i) for i in range(9)]  # string numbers"
   ]
  },
  {
   "cell_type": "code",
   "execution_count": 138,
   "metadata": {},
   "outputs": [
    {
     "data": {
      "text/plain": [
       "['0', '1', '2', '3', '4', '6', '7', '8']"
      ]
     },
     "execution_count": 138,
     "metadata": {},
     "output_type": "execute_result"
    }
   ],
   "source": [
    "[str(i) for i in range(9) if i != 5] # add a condition"
   ]
  },
  {
   "cell_type": "code",
   "execution_count": 139,
   "metadata": {},
   "outputs": [
    {
     "name": "stdout",
     "output_type": "stream",
     "text": [
      "[2 2 2 2]\n",
      "[ 0  0  0  0  1  1  1  1  2  2  2  2  3  3  3  3  4  4  4  4  5  5  5  5\n",
      "  6  6  6  6  7  7  7  7  8  8  8  8  9  9  9  9 10 10 10 10]\n"
     ]
    }
   ],
   "source": [
    "# rep() from R equivalent in python\n",
    "\n",
    "print( np.repeat(2, 4) )\n",
    "\n",
    "print( np.repeat(range(11), 4) )"
   ]
  },
  {
   "cell_type": "code",
   "execution_count": 140,
   "metadata": {},
   "outputs": [
    {
     "data": {
      "text/plain": [
       "[array([0, 1, 2]), array([3, 4, 5]), array([6, 7]), array([8, 9])]"
      ]
     },
     "execution_count": 140,
     "metadata": {},
     "output_type": "execute_result"
    }
   ],
   "source": [
    "# split array\n",
    "\n",
    "np.array_split(np.arange( 0, 10), 4)"
   ]
  },
  {
   "cell_type": "markdown",
   "metadata": {},
   "source": [
    "## Matrix"
   ]
  },
  {
   "cell_type": "code",
   "execution_count": 141,
   "metadata": {},
   "outputs": [
    {
     "data": {
      "text/plain": [
       "array([[0.9318214 , 0.90783857, 0.77624027, 0.84696205, 0.45317021,\n",
       "        0.11810775, 0.22662978, 0.42457215, 0.85911942, 0.49449159],\n",
       "       [0.18561572, 0.09757904, 0.30139147, 0.85390562, 0.68829076,\n",
       "        0.43577239, 0.19007419, 0.4905786 , 0.88151125, 0.5708265 ],\n",
       "       [0.63874177, 0.81561085, 0.0565335 , 0.93140365, 0.37008474,\n",
       "        0.09901278, 0.4179428 , 0.45833009, 0.51010029, 0.09815159],\n",
       "       [0.4283966 , 0.56842328, 0.12389561, 0.57739604, 0.55672233,\n",
       "        0.07783634, 0.88541073, 0.00461744, 0.58800119, 0.30749367],\n",
       "       [0.76729075, 0.12695102, 0.32322956, 0.0153939 , 0.29304617,\n",
       "        0.99031424, 0.53629277, 0.83581002, 0.74042525, 0.53424593],\n",
       "       [0.25972032, 0.38222107, 0.14800965, 0.86327533, 0.51782701,\n",
       "        0.57012765, 0.41904264, 0.00599114, 0.60044229, 0.78070479],\n",
       "       [0.81768501, 0.42419157, 0.79112431, 0.90041576, 0.10414167,\n",
       "        0.22006229, 0.60213084, 0.42457124, 0.5970319 , 0.4472835 ],\n",
       "       [0.1700558 , 0.52073109, 0.6273877 , 0.50345516, 0.97570947,\n",
       "        0.27980159, 0.2653239 , 0.95662578, 0.48879138, 0.03808846],\n",
       "       [0.39830474, 0.63702114, 0.88537271, 0.16129539, 0.24958974,\n",
       "        0.47236317, 0.03492008, 0.08756825, 0.48940048, 0.16111281],\n",
       "       [0.05071503, 0.46173059, 0.40183353, 0.20066161, 0.79118581,\n",
       "        0.05281497, 0.98503779, 0.04234308, 0.92005782, 0.89049053]])"
      ]
     },
     "execution_count": 141,
     "metadata": {},
     "output_type": "execute_result"
    }
   ],
   "source": [
    "Matrix = np.random.rand(10,10)  # random numbers from uniform distribution \n",
    "Matrix"
   ]
  },
  {
   "cell_type": "code",
   "execution_count": 142,
   "metadata": {},
   "outputs": [
    {
     "data": {
      "text/plain": [
       "array([[0.63874177, 0.81561085, 0.0565335 , 0.93140365, 0.37008474,\n",
       "        0.09901278, 0.4179428 , 0.45833009, 0.51010029, 0.09815159],\n",
       "       [0.4283966 , 0.56842328, 0.12389561, 0.57739604, 0.55672233,\n",
       "        0.07783634, 0.88541073, 0.00461744, 0.58800119, 0.30749367],\n",
       "       [0.76729075, 0.12695102, 0.32322956, 0.0153939 , 0.29304617,\n",
       "        0.99031424, 0.53629277, 0.83581002, 0.74042525, 0.53424593]])"
      ]
     },
     "execution_count": 142,
     "metadata": {},
     "output_type": "execute_result"
    }
   ],
   "source": [
    "Matrix[2:5,:]  # rows selecrtion (2,3 and 4)\n"
   ]
  },
  {
   "cell_type": "code",
   "execution_count": 143,
   "metadata": {},
   "outputs": [
    {
     "data": {
      "text/plain": [
       "array([[0.11810775, 0.22662978, 0.42457215, 0.85911942],\n",
       "       [0.43577239, 0.19007419, 0.4905786 , 0.88151125],\n",
       "       [0.09901278, 0.4179428 , 0.45833009, 0.51010029],\n",
       "       [0.07783634, 0.88541073, 0.00461744, 0.58800119],\n",
       "       [0.99031424, 0.53629277, 0.83581002, 0.74042525],\n",
       "       [0.57012765, 0.41904264, 0.00599114, 0.60044229],\n",
       "       [0.22006229, 0.60213084, 0.42457124, 0.5970319 ],\n",
       "       [0.27980159, 0.2653239 , 0.95662578, 0.48879138],\n",
       "       [0.47236317, 0.03492008, 0.08756825, 0.48940048],\n",
       "       [0.05281497, 0.98503779, 0.04234308, 0.92005782]])"
      ]
     },
     "execution_count": 143,
     "metadata": {},
     "output_type": "execute_result"
    }
   ],
   "source": [
    "Matrix[:,5:9]  # columns selecrtion (5,6,7,8)"
   ]
  },
  {
   "cell_type": "code",
   "execution_count": 144,
   "metadata": {},
   "outputs": [
    {
     "data": {
      "text/plain": [
       "array([[0.90783857, 0.45317021],\n",
       "       [0.09757904, 0.68829076],\n",
       "       [0.81561085, 0.37008474],\n",
       "       [0.56842328, 0.55672233],\n",
       "       [0.12695102, 0.29304617],\n",
       "       [0.38222107, 0.51782701],\n",
       "       [0.42419157, 0.10414167],\n",
       "       [0.52073109, 0.97570947],\n",
       "       [0.63702114, 0.24958974],\n",
       "       [0.46173059, 0.79118581]])"
      ]
     },
     "execution_count": 144,
     "metadata": {},
     "output_type": "execute_result"
    }
   ],
   "source": [
    "Matrix[:,[1,4]]  # columns selection (1 y 4)"
   ]
  },
  {
   "cell_type": "code",
   "execution_count": 145,
   "metadata": {},
   "outputs": [
    {
     "name": "stdout",
     "output_type": "stream",
     "text": [
      "[[0.9318214  0.18561572 0.63874177 0.4283966  0.76729075 0.25972032\n",
      "  0.81768501 0.1700558  0.39830474 0.05071503]\n",
      " [0.90783857 0.09757904 0.81561085 0.56842328 0.12695102 0.38222107\n",
      "  0.42419157 0.52073109 0.63702114 0.46173059]\n",
      " [0.77624027 0.30139147 0.0565335  0.12389561 0.32322956 0.14800965\n",
      "  0.79112431 0.6273877  0.88537271 0.40183353]\n",
      " [0.84696205 0.85390562 0.93140365 0.57739604 0.0153939  0.86327533\n",
      "  0.90041576 0.50345516 0.16129539 0.20066161]\n",
      " [0.45317021 0.68829076 0.37008474 0.55672233 0.29304617 0.51782701\n",
      "  0.10414167 0.97570947 0.24958974 0.79118581]\n",
      " [0.11810775 0.43577239 0.09901278 0.07783634 0.99031424 0.57012765\n",
      "  0.22006229 0.27980159 0.47236317 0.05281497]\n",
      " [0.22662978 0.19007419 0.4179428  0.88541073 0.53629277 0.41904264\n",
      "  0.60213084 0.2653239  0.03492008 0.98503779]\n",
      " [0.42457215 0.4905786  0.45833009 0.00461744 0.83581002 0.00599114\n",
      "  0.42457124 0.95662578 0.08756825 0.04234308]\n",
      " [0.85911942 0.88151125 0.51010029 0.58800119 0.74042525 0.60044229\n",
      "  0.5970319  0.48879138 0.48940048 0.92005782]\n",
      " [0.49449159 0.5708265  0.09815159 0.30749367 0.53424593 0.78070479\n",
      "  0.4472835  0.03808846 0.16111281 0.89049053]]\n"
     ]
    }
   ],
   "source": [
    "# Transpose\n",
    "Matrix.transpose()\n",
    "\n",
    "print(Matrix.T)"
   ]
  },
  {
   "cell_type": "code",
   "execution_count": 146,
   "metadata": {},
   "outputs": [
    {
     "data": {
      "text/plain": [
       "array([[ 2.13011831e+00, -4.88364490e-01, -2.08310928e+00,\n",
       "         2.00459030e+00,  5.46176559e-01,  2.40045949e-01,\n",
       "        -5.05712577e-01,  2.06190422e-01, -1.13837492e+00,\n",
       "        -1.41937497e+00],\n",
       "       [-4.73385380e-01, -8.77237224e-01,  1.88617025e+00,\n",
       "        -1.49456598e+00, -1.25039665e-01,  3.47613836e-01,\n",
       "        -3.38423828e-01, -8.74675806e-02,  7.24822412e-01,\n",
       "         9.46239353e-01],\n",
       "       [-1.43873238e-01, -8.19270218e-02, -7.66955917e-01,\n",
       "        -1.08610848e-03, -3.36318700e-01, -9.01546325e-02,\n",
       "         8.10586230e-01,  3.63282314e-01,  4.95166389e-01,\n",
       "        -1.41418363e-02],\n",
       "       [-5.42972346e-01,  4.44965516e-01,  3.54763730e-01,\n",
       "        -5.61792585e-02, -4.82787727e-01,  3.31406323e-01,\n",
       "         6.30328981e-01, -4.17209283e-03,  1.73640164e-02,\n",
       "        -3.23895912e-01],\n",
       "       [ 1.63140383e+00, -3.17820323e-01, -2.35661099e+00,\n",
       "         2.10904926e+00,  3.86573788e-02,  6.99559958e-01,\n",
       "        -1.00422667e+00,  1.10433076e+00, -9.48191550e-01,\n",
       "        -1.17849001e+00],\n",
       "       [-9.72509629e-01,  1.82263285e-02,  2.85030001e-01,\n",
       "         9.73400300e-02,  3.59027372e-01,  6.19636013e-01,\n",
       "        -1.00804302e-01, -5.11360361e-02,  8.89348449e-01,\n",
       "        -4.03401461e-01],\n",
       "       [-1.14325693e+00, -2.93006200e-01,  3.74840003e-01,\n",
       "         3.91826854e-01,  5.79384531e-02, -2.24588979e-01,\n",
       "         7.95454579e-01,  4.57392555e-02,  1.21949502e-01,\n",
       "         3.84633009e-01],\n",
       "       [-4.74636842e-01, -2.62475891e-01,  1.22432854e+00,\n",
       "        -1.70684713e+00,  2.68643188e-01, -2.40881937e-01,\n",
       "         4.31147746e-01,  3.90485710e-01, -4.06014392e-01,\n",
       "         7.76469818e-01],\n",
       "       [-7.17044217e-01,  2.13946876e+00,  1.30176955e+00,\n",
       "        -6.79116138e-02,  2.13501601e-02, -1.94506152e+00,\n",
       "        -3.72651172e-01, -1.37816330e+00,  1.16576987e+00,\n",
       "         6.34350953e-01],\n",
       "       [ 9.47685304e-01, -1.17323901e+00, -3.34163849e-01,\n",
       "        -1.48779338e+00,  1.39719677e-01,  1.38332538e+00,\n",
       "         7.92932220e-02,  2.47232541e-01, -1.06871722e+00,\n",
       "         7.45731252e-01]])"
      ]
     },
     "execution_count": 146,
     "metadata": {},
     "output_type": "execute_result"
    }
   ],
   "source": [
    "#Inverse\n",
    "np.linalg.inv(Matrix)"
   ]
  },
  {
   "cell_type": "code",
   "execution_count": 147,
   "metadata": {},
   "outputs": [],
   "source": [
    "import matplotlib.pyplot as plt\n"
   ]
  },
  {
   "cell_type": "code",
   "execution_count": 148,
   "metadata": {},
   "outputs": [
    {
     "data": {
      "text/plain": [
       "(array([  1.,   2.,   0.,   1.,   0.,   0.,   1.,   0.,   4.,   0.,   4.,\n",
       "          4.,   3.,   6.,   4.,   8.,  10.,  12.,  20.,  14.,  16.,  18.,\n",
       "         23.,  31.,  32.,  43.,  47.,  56.,  51.,  63.,  90.,  95.,  93.,\n",
       "        136., 127., 143., 123., 171., 183., 219., 231., 242., 257., 261.,\n",
       "        240., 294., 273., 289., 284., 298., 282., 303., 314., 329., 269.,\n",
       "        284., 284., 256., 248., 273., 222., 238., 222., 208., 185., 175.,\n",
       "        180., 136., 112., 122., 126.,  89.,  73.,  97.,  73.,  69.,  59.,\n",
       "         35.,  39.,  28.,  17.,  20.,  15.,  16.,  14.,  13.,  17.,   5.,\n",
       "          7.,   5.,   2.,   2.,   4.,   2.,   3.,   1.,   0.,   1.,   1.,\n",
       "          2.]),\n",
       " array([-0.94878535, -0.91112776, -0.87347018, -0.83581259, -0.798155  ,\n",
       "        -0.76049742, -0.72283983, -0.68518224, -0.64752466, -0.60986707,\n",
       "        -0.57220949, -0.5345519 , -0.49689431, -0.45923673, -0.42157914,\n",
       "        -0.38392155, -0.34626397, -0.30860638, -0.2709488 , -0.23329121,\n",
       "        -0.19563362, -0.15797604, -0.12031845, -0.08266087, -0.04500328,\n",
       "        -0.00734569,  0.03031189,  0.06796948,  0.10562707,  0.14328465,\n",
       "         0.18094224,  0.21859982,  0.25625741,  0.293915  ,  0.33157258,\n",
       "         0.36923017,  0.40688776,  0.44454534,  0.48220293,  0.51986051,\n",
       "         0.5575181 ,  0.59517569,  0.63283327,  0.67049086,  0.70814845,\n",
       "         0.74580603,  0.78346362,  0.8211212 ,  0.85877879,  0.89643638,\n",
       "         0.93409396,  0.97175155,  1.00940913,  1.04706672,  1.08472431,\n",
       "         1.12238189,  1.16003948,  1.19769707,  1.23535465,  1.27301224,\n",
       "         1.31066982,  1.34832741,  1.385985  ,  1.42364258,  1.46130017,\n",
       "         1.49895776,  1.53661534,  1.57427293,  1.61193051,  1.6495881 ,\n",
       "         1.68724569,  1.72490327,  1.76256086,  1.80021844,  1.83787603,\n",
       "         1.87553362,  1.9131912 ,  1.95084879,  1.98850638,  2.02616396,\n",
       "         2.06382155,  2.10147913,  2.13913672,  2.17679431,  2.21445189,\n",
       "         2.25210948,  2.28976707,  2.32742465,  2.36508224,  2.40273982,\n",
       "         2.44039741,  2.478055  ,  2.51571258,  2.55337017,  2.59102775,\n",
       "         2.62868534,  2.66634293,  2.70400051,  2.7416581 ,  2.77931569,\n",
       "         2.81697327]),\n",
       " <BarContainer object of 100 artists>)"
      ]
     },
     "execution_count": 148,
     "metadata": {},
     "output_type": "execute_result"
    },
    {
     "data": {
      "image/png": "[encoded data removed]",
      "text/plain": [
       "<Figure size 432x288 with 1 Axes>"
      ]
     },
     "metadata": {
      "needs_background": "light"
     },
     "output_type": "display_data"
    }
   ],
   "source": [
    "#Numeros aleatorios\n",
    "xi = np.random.normal(1,.5)  # random variable with mean 1 y standar error .5\n",
    "\n",
    "\n",
    "X = np.random.normal(1,.5, 10000)  #mil observations\n",
    "\n",
    "Xbar = X.mean()\n",
    "\n",
    "Sigma2 = sum((Xbar-X)**2)/X.shape[0]\n",
    "\n",
    "Sigma = np.sqrt(Sigma2)\n",
    "\n",
    "plt.hist(X, bins = 100)"
   ]
  },
  {
   "cell_type": "code",
   "execution_count": 149,
   "metadata": {},
   "outputs": [
    {
     "name": "stdout",
     "output_type": "stream",
     "text": [
      "[[0. 0.]\n",
      " [0. 0.]\n",
      " [0. 0.]\n",
      " [0. 0.]\n",
      " [0. 0.]\n",
      " [0. 0.]\n",
      " [0. 0.]\n",
      " [0. 0.]]\n"
     ]
    }
   ],
   "source": [
    "# Matrix made of zeros \n",
    "\n",
    "M1 = np.zeros( (8, 2) )\n",
    "print(M1)"
   ]
  },
  {
   "cell_type": "code",
   "execution_count": 150,
   "metadata": {
    "scrolled": false
   },
   "outputs": [
    {
     "name": "stdout",
     "output_type": "stream",
     "text": [
      "[[1. 1. 1. 1.]\n",
      " [1. 1. 1. 1.]\n",
      " [1. 1. 1. 1.]\n",
      " [1. 1. 1. 1.]\n",
      " [1. 1. 1. 1.]\n",
      " [1. 1. 1. 1.]\n",
      " [1. 1. 1. 1.]\n",
      " [1. 1. 1. 1.]\n",
      " [1. 1. 1. 1.]\n",
      " [1. 1. 1. 1.]]\n"
     ]
    }
   ],
   "source": [
    "#  Matrix made of zeros \n",
    "\n",
    "M2 = np.ones( (10, 4) )\n",
    "print(M2)"
   ]
  },
  {
   "cell_type": "markdown",
   "metadata": {},
   "source": [
    "## Join matrix"
   ]
  },
  {
   "cell_type": "code",
   "execution_count": 151,
   "metadata": {
    "scrolled": true
   },
   "outputs": [
    {
     "data": {
      "text/plain": [
       "array([[0.9318214 , 0.90783857, 0.77624027, 0.84696205, 0.45317021,\n",
       "        0.11810775, 0.22662978, 0.42457215, 0.85911942, 0.49449159,\n",
       "        1.        , 1.        , 1.        , 1.        ],\n",
       "       [0.18561572, 0.09757904, 0.30139147, 0.85390562, 0.68829076,\n",
       "        0.43577239, 0.19007419, 0.4905786 , 0.88151125, 0.5708265 ,\n",
       "        1.        , 1.        , 1.        , 1.        ],\n",
       "       [0.63874177, 0.81561085, 0.0565335 , 0.93140365, 0.37008474,\n",
       "        0.09901278, 0.4179428 , 0.45833009, 0.51010029, 0.09815159,\n",
       "        1.        , 1.        , 1.        , 1.        ],\n",
       "       [0.4283966 , 0.56842328, 0.12389561, 0.57739604, 0.55672233,\n",
       "        0.07783634, 0.88541073, 0.00461744, 0.58800119, 0.30749367,\n",
       "        1.        , 1.        , 1.        , 1.        ],\n",
       "       [0.76729075, 0.12695102, 0.32322956, 0.0153939 , 0.29304617,\n",
       "        0.99031424, 0.53629277, 0.83581002, 0.74042525, 0.53424593,\n",
       "        1.        , 1.        , 1.        , 1.        ],\n",
       "       [0.25972032, 0.38222107, 0.14800965, 0.86327533, 0.51782701,\n",
       "        0.57012765, 0.41904264, 0.00599114, 0.60044229, 0.78070479,\n",
       "        1.        , 1.        , 1.        , 1.        ],\n",
       "       [0.81768501, 0.42419157, 0.79112431, 0.90041576, 0.10414167,\n",
       "        0.22006229, 0.60213084, 0.42457124, 0.5970319 , 0.4472835 ,\n",
       "        1.        , 1.        , 1.        , 1.        ],\n",
       "       [0.1700558 , 0.52073109, 0.6273877 , 0.50345516, 0.97570947,\n",
       "        0.27980159, 0.2653239 , 0.95662578, 0.48879138, 0.03808846,\n",
       "        1.        , 1.        , 1.        , 1.        ],\n",
       "       [0.39830474, 0.63702114, 0.88537271, 0.16129539, 0.24958974,\n",
       "        0.47236317, 0.03492008, 0.08756825, 0.48940048, 0.16111281,\n",
       "        1.        , 1.        , 1.        , 1.        ],\n",
       "       [0.05071503, 0.46173059, 0.40183353, 0.20066161, 0.79118581,\n",
       "        0.05281497, 0.98503779, 0.04234308, 0.92005782, 0.89049053,\n",
       "        1.        , 1.        , 1.        , 1.        ]])"
      ]
     },
     "execution_count": 151,
     "metadata": {},
     "output_type": "execute_result"
    }
   ],
   "source": [
    "M3 = np.hstack((Matrix,M2))  # stack horizontal \n",
    "M3"
   ]
  },
  {
   "cell_type": "code",
   "execution_count": 152,
   "metadata": {},
   "outputs": [
    {
     "name": "stdout",
     "output_type": "stream",
     "text": [
      "[1. 1. 1. 1. 1. 1. 1. 1. 1. 1.]\n"
     ]
    }
   ],
   "source": [
    "# Create a 1D NumPy array of ones of length 10:\n",
    "w = np.ones(10)\n",
    "print(w)"
   ]
  },
  {
   "cell_type": "code",
   "execution_count": 153,
   "metadata": {
    "scrolled": true
   },
   "outputs": [
    {
     "name": "stdout",
     "output_type": "stream",
     "text": [
      "[[1. 0. 0. 0. 0. 0. 0. 0.]\n",
      " [0. 1. 0. 0. 0. 0. 0. 0.]\n",
      " [0. 0. 1. 0. 0. 0. 0. 0.]\n",
      " [0. 0. 0. 1. 0. 0. 0. 0.]\n",
      " [0. 0. 0. 0. 1. 0. 0. 0.]\n",
      " [0. 0. 0. 0. 0. 1. 0. 0.]\n",
      " [0. 0. 0. 0. 0. 0. 1. 0.]\n",
      " [0. 0. 0. 0. 0. 0. 0. 1.]]\n"
     ]
    }
   ],
   "source": [
    "# Create the identity matrix of size 8:\n",
    "I = np.eye(8)\n",
    "print(I)"
   ]
  },
  {
   "cell_type": "markdown",
   "metadata": {},
   "source": [
    "# OLS regression"
   ]
  },
  {
   "cell_type": "code",
   "execution_count": 154,
   "metadata": {
    "scrolled": false
   },
   "outputs": [],
   "source": [
    "np.random.seed(175) # semilla aleatoria para producir numeros aleatorios \n",
    "#  permite que los numeros aleatorios no cambien al correr los códigos\n",
    "# numpy random permite generar números aleatorios unicos \n",
    "\n",
    "x1 = np.random.rand(500) \n",
    "x2 = np.random.rand(500) # uniform distribution [0,1]\n",
    "x3 = np.random.rand(500) # uniform distribution [0,1]\n",
    "x4 = np.random.rand(500) # uniform distribution [0,1]\n",
    "e = np.random.normal(0,1,500) # normal distribution mean = 0 and sd = 1\n",
    "\n",
    "# Poblacional regression (Data Generating Process GDP)\n",
    "\n",
    "Y = 1 + 0.8*x1 + 1.2*x2 + 0.5*x3 + 1.5*x4 + e"
   ]
  },
  {
   "cell_type": "code",
   "execution_count": 155,
   "metadata": {},
   "outputs": [
    {
     "data": {
      "text/plain": [
       "array([[1.        , 0.80208785, 0.1704135 , 0.45315607, 0.41202992],\n",
       "       [1.        , 0.26601472, 0.87454415, 0.32994383, 0.62363096],\n",
       "       [1.        , 0.55382323, 0.0011151 , 0.31545744, 0.21831639],\n",
       "       ...,\n",
       "       [1.        , 0.89842226, 0.60413563, 0.93772614, 0.99341104],\n",
       "       [1.        , 0.62565009, 0.10272859, 0.66452729, 0.82629703],\n",
       "       [1.        , 0.21648904, 0.26967948, 0.72721711, 0.07466147]])"
      ]
     },
     "execution_count": 155,
     "metadata": {},
     "output_type": "execute_result"
    }
   ],
   "source": [
    "X = np.column_stack((np.ones(500),x1,x2,x3,x4))\n",
    "X"
   ]
  },
  {
   "cell_type": "code",
   "execution_count": 156,
   "metadata": {},
   "outputs": [
    {
     "name": "stdout",
     "output_type": "stream",
     "text": [
      "[1.31135527 0.76677304 1.14637126 0.08009981 1.41811484]\n"
     ]
    }
   ],
   "source": [
    "beta = np.linalg.inv(X.T @ X) @ ((X.T) @ Y )\n",
    "print(beta)"
   ]
  },
  {
   "cell_type": "markdown",
   "metadata": {},
   "source": [
    "# References\n",
    "\n",
    "## Numpy \n",
    "https://numpy.org/doc/stable/reference/arrays.html\n",
    "\n",
    "https://www.kaggle.com/code/hkumls/intensive-python-tutorial-numpy/notebook"
   ]
  },
  {
   "cell_type": "code",
   "execution_count": null,
   "metadata": {},
   "outputs": [],
   "source": []
  }
 ],
 "metadata": {
  "kernelspec": {
   "display_name": "Python 3 (ipykernel)",
   "language": "python",
   "name": "python3"
  },
  "language_info": {
   "codemirror_mode": {
    "name": "ipython",
    "version": 3
   },
   "file_extension": ".py",
   "mimetype": "text/x-python",
   "name": "python",
   "nbconvert_exporter": "python",
   "pygments_lexer": "ipython3",
   "version": "3.10.4"
  }
 },
 "nbformat": 4,
 "nbformat_minor": 4
}

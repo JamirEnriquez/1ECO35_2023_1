{
 "cells": [
  {
   "cell_type": "markdown",
   "id": "e92d036b",
   "metadata": {},
   "source": [
    "#  Laboratorio 2 - Python\n",
    "## @author: Roberto Mendoza "
   ]
  },
  {
   "cell_type": "markdown",
   "id": "fbfcdca2",
   "metadata": {},
   "source": [
    "- <a href='#1.0'>  1.0 If statement </a> \n",
    "- <a href='#1.1'> 1.1 Nested if statement   </a> \n",
    "- <a href='#1.2'> 1.2 While if statement  </a> \n",
    "- <a href='#1.3'> 1.3 For Loop </a> \n",
    "- <a href='#1.4'> 1.4 Function   </a> "
   ]
  },
  {
   "cell_type": "markdown",
   "id": "836ca442",
   "metadata": {},
   "source": [
    "## <a id='1.0'> 1.0 If statement </a> "
   ]
  },
  {
   "cell_type": "code",
   "execution_count": 42,
   "id": "8db08323",
   "metadata": {},
   "outputs": [
    {
     "name": "stdout",
     "output_type": "stream",
     "text": [
      "1\n"
     ]
    }
   ],
   "source": [
    "import random\n",
    "import numpy as np\n",
    "import math\n",
    "\n",
    "y = np.random.randint(-10, 10, 50)   # valores entre -10 y 10. Extraer 50 numeros. \n",
    "\n",
    "if np.mean(y) > 0 :\n",
    "    dummy = 1\n",
    "else :\n",
    "    dummy = 0\n",
    "        \n",
    "print(dummy)"
   ]
  },
  {
   "cell_type": "code",
   "execution_count": 43,
   "id": "5070f4bd",
   "metadata": {},
   "outputs": [
    {
     "name": "stdout",
     "output_type": "stream",
     "text": [
      "1\n"
     ]
    }
   ],
   "source": [
    "dummy = 1 if np.mean(y) > 0 else  0\n",
    "\n",
    "print(dummy)"
   ]
  },
  {
   "cell_type": "markdown",
   "id": "1eba3380",
   "metadata": {},
   "source": [
    "## <a id='1.1'> 1.1 Nested if statement </a> "
   ]
  },
  {
   "cell_type": "code",
   "execution_count": 44,
   "id": "900ee2e0",
   "metadata": {},
   "outputs": [
    {
     "name": "stdout",
     "output_type": "stream",
     "text": [
      "False  es numero entero (no missing)\n"
     ]
    }
   ],
   "source": [
    "# v = 2\n",
    "# v = np.nan\n",
    "# v = \"String\"\n",
    "v = False\n",
    "\n",
    "if isinstance( v, int ):\n",
    "    print(v, \" es numero entero (no missing)\")\n",
    "elif math.isnan(v):\n",
    "    print(v, \" es un missing\")\n",
    "elif isinstance( v, str ):\n",
    "    print(v, \" es un string\") \n",
    "elif isinstance( v, bool ):\n",
    "    print(v, \" es un logical\")     \n",
    "else:\n",
    "    print(\"Sin resultado\")        "
   ]
  },
  {
   "cell_type": "markdown",
   "id": "5be0bb17",
   "metadata": {},
   "source": [
    "### If I have my savings today of S/.1,000.00. How much will my savings be worth in 10 years at an interest rate of 2.5%?\n",
    "\n",
    "$$\n",
    "    S_{y+1}\t=S_{y}(1+i)\n",
    "$$"
   ]
  },
  {
   "cell_type": "code",
   "execution_count": 30,
   "id": "6bbab811",
   "metadata": {},
   "outputs": [],
   "source": [
    "#  save\n",
    "S = 1000\n",
    "\n",
    "# Periods\n",
    "n = 10\n",
    "\n",
    "# interes rate\n",
    "i = 0.025"
   ]
  },
  {
   "cell_type": "code",
   "execution_count": 31,
   "id": "2475c96f",
   "metadata": {},
   "outputs": [
    {
     "name": "stdout",
     "output_type": "stream",
     "text": [
      "2 1025.0\n",
      "3 1050.625\n",
      "4 1076.890625\n",
      "5 1103.812890625\n",
      "6 1131.4082128906248\n",
      "7 1159.6934182128903\n",
      "8 1188.6857536682123\n",
      "9 1218.4028975099175\n",
      "10 1248.8629699476653\n"
     ]
    }
   ],
   "source": [
    "year = 1\n",
    "while year < n:\n",
    "    S =  S * (1+i)\n",
    "    year += 1\n",
    "    print( year, S)"
   ]
  },
  {
   "cell_type": "markdown",
   "id": "7906f97e",
   "metadata": {},
   "source": [
    "## <a id='1.2'> 1.2 While if statement </a> "
   ]
  },
  {
   "cell_type": "code",
   "execution_count": 32,
   "id": "3e8d448b",
   "metadata": {},
   "outputs": [
    {
     "name": "stdout",
     "output_type": "stream",
     "text": [
      "0\n"
     ]
    }
   ],
   "source": [
    "w = 10\n",
    "\n",
    "while (w > 7  & w <= 15) :\n",
    "      \n",
    "    coin = round( np.random.uniform(0,1) ) # numero aleatorio entre 0 y 1\n",
    "  \n",
    "    if coin == 1:\n",
    "        w =  w + 2  # se suma w +2 si coin es 1\n",
    "    else :\n",
    "        w = w - 10  # caso contrario\n",
    "        print(w)"
   ]
  },
  {
   "cell_type": "markdown",
   "id": "7cab8604",
   "metadata": {},
   "source": [
    "## <a id='1.3'> 1.3 For Loop </a> "
   ]
  },
  {
   "cell_type": "code",
   "execution_count": 33,
   "id": "01e25ba8",
   "metadata": {},
   "outputs": [
    {
     "name": "stdout",
     "output_type": "stream",
     "text": [
      "31\n",
      "33\n",
      "35\n",
      "34\n",
      "30\n"
     ]
    }
   ],
   "source": [
    "#### For Loop ##\n",
    "\n",
    "ages = np.array([21, 23, 25, 24, 20])\n",
    "\n",
    "for age in ages:\n",
    "\n",
    "    print(age+10 )  "
   ]
  },
  {
   "cell_type": "code",
   "execution_count": 34,
   "id": "cb78e1c0",
   "metadata": {},
   "outputs": [
    {
     "name": "stdout",
     "output_type": "stream",
     "text": [
      "Ejecutanto 0 \n",
      "\n",
      "Ejecutanto 1 \n",
      "\n",
      "Ejecutanto 2 \n",
      "\n",
      "Ejecutanto 3 \n",
      "\n",
      "Ejecutanto 4 \n",
      "\n",
      "Ejecutanto 5 \n",
      "\n",
      "Ejecutanto 6 \n",
      "\n",
      "Ejecutanto 7 \n",
      "\n",
      "Ejecutanto 8 \n",
      "\n",
      "Ejecutanto 9 \n",
      "\n",
      "Ejecutanto 10 \n",
      "\n",
      "Ejecutanto 11 \n",
      "\n",
      "Ejecutanto 12 \n",
      "\n",
      "Ejecutanto 13 \n",
      "\n",
      "Ejecutanto 14 \n",
      "\n",
      "Ejecutanto 21 \n",
      "\n",
      "Ejecutanto 22 \n",
      "\n",
      "Ejecutanto 23 \n",
      "\n",
      "Ejecutanto 24 \n",
      "\n",
      "Ejecutanto 25 \n",
      "\n",
      "Ejecutanto 26 \n",
      "\n",
      "Ejecutanto 27 \n",
      "\n",
      "Ejecutanto 28 \n",
      "\n",
      "Ejecutanto 29 \n",
      "\n",
      "Ejecutanto 30 \n",
      "\n",
      "Ejecutanto 31 \n",
      "\n",
      "Ejecutanto 32 \n",
      "\n",
      "Ejecutanto 33 \n",
      "\n",
      "Ejecutanto 34 \n",
      "\n",
      "Ejecutanto 35 \n",
      "\n",
      "Ejecutanto 36 \n",
      "\n",
      "Ejecutanto 37 \n",
      "\n",
      "Ejecutanto 38 \n",
      "\n",
      "Ejecutanto 39 \n",
      "\n",
      "Ejecutanto 40 \n",
      "\n",
      "Ejecutanto 41 \n",
      "\n",
      "Ejecutanto 42 \n",
      "\n",
      "Ejecutanto 43 \n",
      "\n",
      "Ejecutanto 44 \n",
      "\n",
      "Ejecutanto 45 \n",
      "\n",
      "Ejecutanto 46 \n",
      "\n",
      "Ejecutanto 47 \n",
      "\n",
      "Ejecutanto 48 \n",
      "\n",
      "Ejecutanto 49 \n",
      "\n",
      "0\n",
      "1\n",
      "2\n",
      "3\n",
      "4\n",
      "5\n",
      "6\n",
      "7\n",
      "8\n",
      "9\n",
      "10\n",
      "11\n",
      "12\n",
      "13\n",
      "14\n",
      "15\n",
      "16\n",
      "17\n",
      "18\n",
      "19\n",
      "20\n",
      "21\n"
     ]
    }
   ],
   "source": [
    "for i in range(50):\n",
    "    if i in range(15,21) :\n",
    "        None\n",
    "    else :\n",
    "        print(\"Ejecutanto\",i,\"\\n\")\n",
    "\n",
    "\n",
    "# Example 2\n",
    "\n",
    "for j in range(101):\n",
    "    print(j)\n",
    "    \n",
    "    if j > 20:\n",
    "        break\n",
    "    \n",
    "#### While + break\n",
    "\n",
    "w = 10\n",
    "\n",
    "while True :\n",
    "    coin = round( np.random.uniform(0,1) ) # redondear al entero más cercano\n",
    "    if coin == 1 :\n",
    "        break   # sale del while\n",
    "    else:\n",
    "        w = w + 10  # se ejecuta si el coin es diferente de 1 \n",
    "        print(w)"
   ]
  },
  {
   "cell_type": "markdown",
   "id": "109394d6",
   "metadata": {},
   "source": [
    "## <a id='1.4'> 1.4 Function </a> "
   ]
  },
  {
   "cell_type": "code",
   "execution_count": 35,
   "id": "4cc7f700",
   "metadata": {},
   "outputs": [
    {
     "name": "stdout",
     "output_type": "stream",
     "text": [
      "60040\n"
     ]
    },
    {
     "ename": "TypeError",
     "evalue": "calculator() missing 1 required positional argument: 'z'",
     "output_type": "error",
     "traceback": [
      "\u001b[1;31m---------------------------------------------------------------------------\u001b[0m",
      "\u001b[1;31mTypeError\u001b[0m                                 Traceback (most recent call last)",
      "Input \u001b[1;32mIn [35]\u001b[0m, in \u001b[0;36m<cell line: 8>\u001b[1;34m()\u001b[0m\n\u001b[0;32m      4\u001b[0m     \u001b[38;5;28;01mreturn\u001b[39;00m result\n\u001b[0;32m      6\u001b[0m \u001b[38;5;28mprint\u001b[39m( calculator( \u001b[38;5;241m158\u001b[39m, \u001b[38;5;241m38\u001b[39m, \u001b[38;5;241m10\u001b[39m ) )\n\u001b[1;32m----> 8\u001b[0m \u001b[43mcalculator\u001b[49m\u001b[43m(\u001b[49m\u001b[43m \u001b[49m\u001b[38;5;241;43m158\u001b[39;49m\u001b[43m,\u001b[49m\u001b[43m \u001b[49m\u001b[38;5;241;43m38\u001b[39;49m\u001b[43m)\u001b[49m\n",
      "\u001b[1;31mTypeError\u001b[0m: calculator() missing 1 required positional argument: 'z'"
     ]
    }
   ],
   "source": [
    "def calculator(x,y,z):\n",
    "    result = x*y*z\n",
    "    \n",
    "    return result\n",
    "\n",
    "print( calculator( 158, 38, 10 ) )\n",
    "\n",
    "calculator( 158, 38)"
   ]
  },
  {
   "cell_type": "code",
   "execution_count": 36,
   "id": "2d3747bc",
   "metadata": {},
   "outputs": [
    {
     "name": "stdout",
     "output_type": "stream",
     "text": [
      "9\n",
      "Too large number. Do not return variables!\n"
     ]
    },
    {
     "data": {
      "text/plain": [
       "35"
      ]
     },
     "execution_count": 36,
     "metadata": {},
     "output_type": "execute_result"
    }
   ],
   "source": [
    "## return multiple\n",
    "\n",
    "def calculator_square( x, y ):\n",
    "    \n",
    "    x2 = x * x\n",
    "    y2 = y * y\n",
    "    \n",
    "    result = x2 * y2   \n",
    "    \n",
    "    return (result, x2, f\"La multiplicación del cuadrado es: {result}\")  # multiple resultado \n",
    "\n",
    "calculator_square(3, 4)\n",
    "                  \n",
    "print( calculator_square(3, 4)[1] )\n",
    "calculator_square(3, 4)[2]\n",
    "                \n",
    "\n",
    "#### IF statement and return \n",
    "def calculator_square_2( x, y ):\n",
    "    \n",
    "    x2 = x * x\n",
    "    y2 = y * y\n",
    "    \n",
    "    result = x2 * y2   \n",
    "    if result <= 200:\n",
    "           return f\"Large number. Get only the result variable {result}\"\n",
    "    else:\n",
    "           return  print( \"Too large number. Do not return variables!\")\n",
    "\n",
    "\n",
    "calculator_square_2(300, 4)\n",
    "\n",
    "\n",
    "## Función y tipo de variables\n",
    "\n",
    "\n",
    "def calculator_base_5( x , y = 5 ):\n",
    "    \n",
    "    result = x * y\n",
    "    \n",
    "    return result\n",
    "\n",
    "\n",
    "calculator_base_5( 7 )"
   ]
  }
 ],
 "metadata": {
  "kernelspec": {
   "display_name": "Python 3 (ipykernel)",
   "language": "python",
   "name": "python3"
  },
  "language_info": {
   "codemirror_mode": {
    "name": "ipython",
    "version": 3
   },
   "file_extension": ".py",
   "mimetype": "text/x-python",
   "name": "python",
   "nbconvert_exporter": "python",
   "pygments_lexer": "ipython3",
   "version": "3.9.7"
  }
 },
 "nbformat": 4,
 "nbformat_minor": 5
}
